{
 "cells": [
  {
   "cell_type": "markdown",
   "id": "d44835c7-27bb-484b-8133-325c5320d34d",
   "metadata": {},
   "source": [
    "# **Отток Студентов**"
   ]
  },
  {
   "cell_type": "markdown",
   "id": "7101b413-6e37-455b-99f0-4f0d43f98854",
   "metadata": {},
   "source": [
    "## **Кратко о задаче:**\n",
    "- *Необходимо построить модель оттока студентов*\n",
    "- *Предлагаю свести это к задаче бинарной классификации, где 1 - студент будет отчислен, а 0 - студент не будет отчислен*\n",
    "- *Данные не размечены, поэтому необходимо проанализировать и понять, в какой момент студент является отчисленым. А затем разметить по выявленным закономерностям*\n",
    "\n",
    "## **Как бы я решал:**\n",
    "#### **1. EDA, очистка данных, предварительный отбор фичей, **выделение таргета**: <br>**\n",
    "- Здесь нужно точно понимать момент, когда студент считается отчисленным и правильно проставить метки таргета. *Например пользователь отчислен в 5-ом семестре, это значит что до этого момента мы должны проставить таргет этому студенту \"не отчислен\"*\n",
    "- Также надо понимать, что у нас задача с дисбалансом классов и учитывать это в дальнейшем\n",
    "#### **2. Генерация новых фичей. В качестве полезных фичей, которые я бы сгенерировал перед обучением модели:**\n",
    "- курс\n",
    "- семестр (например, для бакалавра от 1 до 8)\n",
    "- средняя оценка студента за экзамены\n",
    "- средняя оценка студента за предметы\n",
    "- средняя оценка студента за последнюю сессию\n",
    "- количество долгов\n",
    "- среднее отклонение оценок студента\n",
    "- средняя оценка по сложным предметам (выявить эти предметы в EDA)\n",
    "- количество долгов по сложным предметам\n",
    "- **! ВАЖНО: нельзя \"заглядывать в будущее\". Агрегации должны быть сделаны только из тех данных, которые мы как бы знаем на какой-то конкретный временной промежуток**\n",
    "- было бы полезно еще учитывать посещаемость, но таких данных предоставлено не было\n",
    "\n",
    "#### **3. Encoding категориальных фичей**\n",
    "- Target encoding для специальности, например\n",
    "\n",
    "#### **4. Агрегация данных для обучения**\n",
    "- Кажется, что ситуация, когда 1 запись = информация по оценке студента по какому-то предмету в какой-то семестр не очень подходит для обучения\n",
    "- Поэтому я бы агрегировал данные по студентам и семестрам. Получилось бы, что 1 запись = успеваемость какого-то студента за период начало обучения - какой-то семестр\n",
    "\n",
    "#### **5. Метрики**\n",
    "- Тут нужно понимать для чего мы строим модель. Нам важно на ранних этапах понимать, какие студенты в группе риска, и как-то быстро реагировать и стимулировать их. Подразумевается, что если студент попал в группу риска, у него не будет ужасных последствий\n",
    "- Поэтому для таких целей нам нужно оптимизировать **recall**, ведь нам важнее как можно больше найти студентов, которые в группе риска.\n",
    "- Точность имеет уже второе значение, но тоже важна, чтобы не маркировать слишком много студентов как находящихся в зоне риска отчисления, когда на самом деле они справляются хорошо.\n",
    "- precision\n",
    "- PR AUC - хороший выбор для несбалансированных классов\n",
    "- **f1-мера с уклоном в recall - использовал бы для выбора модели** \n",
    "\n",
    "#### **6. Выбор модели**\n",
    "- *Вполне веротяно, что задача может быть решена без ML-моделей, простым использованием каких-то эвристик*\n",
    "- Линейная регрессия, Деревья: из плюсов хорошая интерпретируемость модели\n",
    "- Random forest\n",
    "- Catboost: вероятно покажет хорошее качество в данной задаче, а также есть autoencoder категориальных фичей\n",
    "- ?Возможно попробовать перевести это в задачу прогнозирования временных рядов?"
   ]
  },
  {
   "cell_type": "markdown",
   "id": "d9b96bd9-ae25-4dcb-aef6-edb83b7d3ba7",
   "metadata": {},
   "source": [
    "# Imports"
   ]
  },
  {
   "cell_type": "code",
   "execution_count": 1,
   "id": "42c5af26",
   "metadata": {},
   "outputs": [
    {
     "name": "stderr",
     "output_type": "stream",
     "text": [
      "/var/folders/36/4qq8yw917gx9npbp0w2hv6t80000gn/T/ipykernel_53763/131226104.py:1: DeprecationWarning: \n",
      "Pyarrow will become a required dependency of pandas in the next major release of pandas (pandas 3.0),\n",
      "(to allow more performant data types, such as the Arrow string type, and better interoperability with other libraries)\n",
      "but was not found to be installed on your system.\n",
      "If this would cause problems for you,\n",
      "please provide us feedback at https://github.com/pandas-dev/pandas/issues/54466\n",
      "        \n",
      "  import pandas as pd\n"
     ]
    }
   ],
   "source": [
    "import pandas as pd\n",
    "import numpy as np\n",
    "\n",
    "import seaborn as sns\n",
    "import matplotlib.pyplot as plt"
   ]
  },
  {
   "cell_type": "code",
   "execution_count": 2,
   "id": "633bd785-64a7-40ac-8057-2664416dfcd0",
   "metadata": {},
   "outputs": [],
   "source": [
    "sns.set_style(\"whitegrid\")"
   ]
  },
  {
   "cell_type": "markdown",
   "id": "5afc3ef9-b420-484c-986b-f08a3554e14c",
   "metadata": {},
   "source": [
    "# Loading Data"
   ]
  },
  {
   "cell_type": "code",
   "execution_count": 3,
   "id": "7317b620-7b9a-4328-92fa-5776785ea9f3",
   "metadata": {},
   "outputs": [],
   "source": [
    "df = pd.read_excel(\"data.xlsx\")"
   ]
  },
  {
   "cell_type": "code",
   "execution_count": 4,
   "id": "95a60c70-92e2-43e9-943c-d60436593f51",
   "metadata": {},
   "outputs": [
    {
     "data": {
      "text/html": [
       "<div>\n",
       "<style scoped>\n",
       "    .dataframe tbody tr th:only-of-type {\n",
       "        vertical-align: middle;\n",
       "    }\n",
       "\n",
       "    .dataframe tbody tr th {\n",
       "        vertical-align: top;\n",
       "    }\n",
       "\n",
       "    .dataframe thead th {\n",
       "        text-align: right;\n",
       "    }\n",
       "</style>\n",
       "<table border=\"1\" class=\"dataframe\">\n",
       "  <thead>\n",
       "    <tr style=\"text-align: right;\">\n",
       "      <th></th>\n",
       "      <th>hash</th>\n",
       "      <th>Номер ЛД</th>\n",
       "      <th>Уровень подготовки</th>\n",
       "      <th>Учебная группа</th>\n",
       "      <th>Специальность/направление</th>\n",
       "      <th>Учебный год</th>\n",
       "      <th>Полугодие</th>\n",
       "      <th>Дисциплина</th>\n",
       "      <th>Оценка (без пересдач)</th>\n",
       "      <th>Оценка (успеваемость)</th>\n",
       "    </tr>\n",
       "  </thead>\n",
       "  <tbody>\n",
       "    <tr>\n",
       "      <th>0</th>\n",
       "      <td>67a80fffd8d0294a596eda117d7e393c</td>\n",
       "      <td>2010218</td>\n",
       "      <td>Академический бакалавр</td>\n",
       "      <td>БИВТ-20-4</td>\n",
       "      <td>Информатика и вычислительная техника</td>\n",
       "      <td>2020 - 2021</td>\n",
       "      <td>I полугодие</td>\n",
       "      <td>Инженерная компьютерная графика</td>\n",
       "      <td>Хорошо</td>\n",
       "      <td>Хорошо</td>\n",
       "    </tr>\n",
       "    <tr>\n",
       "      <th>1</th>\n",
       "      <td>67a80fffd8d0294a596eda117d7e393c</td>\n",
       "      <td>2010218</td>\n",
       "      <td>Академический бакалавр</td>\n",
       "      <td>БИВТ-20-4</td>\n",
       "      <td>Информатика и вычислительная техника</td>\n",
       "      <td>2020 - 2021</td>\n",
       "      <td>I полугодие</td>\n",
       "      <td>Иностранный язык</td>\n",
       "      <td>Удовлетворительно</td>\n",
       "      <td>Удовлетворительно</td>\n",
       "    </tr>\n",
       "    <tr>\n",
       "      <th>2</th>\n",
       "      <td>67a80fffd8d0294a596eda117d7e393c</td>\n",
       "      <td>2010218</td>\n",
       "      <td>Академический бакалавр</td>\n",
       "      <td>БИВТ-20-4</td>\n",
       "      <td>Информатика и вычислительная техника</td>\n",
       "      <td>2020 - 2021</td>\n",
       "      <td>I полугодие</td>\n",
       "      <td>История</td>\n",
       "      <td>зачтено</td>\n",
       "      <td>зачтено</td>\n",
       "    </tr>\n",
       "    <tr>\n",
       "      <th>3</th>\n",
       "      <td>67a80fffd8d0294a596eda117d7e393c</td>\n",
       "      <td>2010218</td>\n",
       "      <td>Академический бакалавр</td>\n",
       "      <td>БИВТ-20-4</td>\n",
       "      <td>Информатика и вычислительная техника</td>\n",
       "      <td>2020 - 2021</td>\n",
       "      <td>I полугодие</td>\n",
       "      <td>Математика</td>\n",
       "      <td>Хорошо</td>\n",
       "      <td>Хорошо</td>\n",
       "    </tr>\n",
       "    <tr>\n",
       "      <th>4</th>\n",
       "      <td>67a80fffd8d0294a596eda117d7e393c</td>\n",
       "      <td>2010218</td>\n",
       "      <td>Академический бакалавр</td>\n",
       "      <td>БИВТ-20-4</td>\n",
       "      <td>Информатика и вычислительная техника</td>\n",
       "      <td>2020 - 2021</td>\n",
       "      <td>I полугодие</td>\n",
       "      <td>Программирование и алгоритмизация</td>\n",
       "      <td>Хорошо</td>\n",
       "      <td>Хорошо</td>\n",
       "    </tr>\n",
       "  </tbody>\n",
       "</table>\n",
       "</div>"
      ],
      "text/plain": [
       "                               hash  Номер ЛД      Уровень подготовки  \\\n",
       "0  67a80fffd8d0294a596eda117d7e393c   2010218  Академический бакалавр   \n",
       "1  67a80fffd8d0294a596eda117d7e393c   2010218  Академический бакалавр   \n",
       "2  67a80fffd8d0294a596eda117d7e393c   2010218  Академический бакалавр   \n",
       "3  67a80fffd8d0294a596eda117d7e393c   2010218  Академический бакалавр   \n",
       "4  67a80fffd8d0294a596eda117d7e393c   2010218  Академический бакалавр   \n",
       "\n",
       "  Учебная группа             Специальность/направление  Учебный год  \\\n",
       "0      БИВТ-20-4  Информатика и вычислительная техника  2020 - 2021   \n",
       "1      БИВТ-20-4  Информатика и вычислительная техника  2020 - 2021   \n",
       "2      БИВТ-20-4  Информатика и вычислительная техника  2020 - 2021   \n",
       "3      БИВТ-20-4  Информатика и вычислительная техника  2020 - 2021   \n",
       "4      БИВТ-20-4  Информатика и вычислительная техника  2020 - 2021   \n",
       "\n",
       "     Полугодие                         Дисциплина Оценка (без пересдач)  \\\n",
       "0  I полугодие    Инженерная компьютерная графика                Хорошо   \n",
       "1  I полугодие                   Иностранный язык     Удовлетворительно   \n",
       "2  I полугодие                            История               зачтено   \n",
       "3  I полугодие                         Математика                Хорошо   \n",
       "4  I полугодие  Программирование и алгоритмизация                Хорошо   \n",
       "\n",
       "  Оценка (успеваемость)  \n",
       "0                Хорошо  \n",
       "1     Удовлетворительно  \n",
       "2               зачтено  \n",
       "3                Хорошо  \n",
       "4                Хорошо  "
      ]
     },
     "execution_count": 4,
     "metadata": {},
     "output_type": "execute_result"
    }
   ],
   "source": [
    "df.head()"
   ]
  },
  {
   "cell_type": "code",
   "execution_count": 5,
   "id": "a98f7c1a-68d8-4d42-b437-262d48863024",
   "metadata": {},
   "outputs": [
    {
     "data": {
      "text/html": [
       "<div>\n",
       "<style scoped>\n",
       "    .dataframe tbody tr th:only-of-type {\n",
       "        vertical-align: middle;\n",
       "    }\n",
       "\n",
       "    .dataframe tbody tr th {\n",
       "        vertical-align: top;\n",
       "    }\n",
       "\n",
       "    .dataframe thead th {\n",
       "        text-align: right;\n",
       "    }\n",
       "</style>\n",
       "<table border=\"1\" class=\"dataframe\">\n",
       "  <thead>\n",
       "    <tr style=\"text-align: right;\">\n",
       "      <th></th>\n",
       "      <th>hash</th>\n",
       "      <th>id</th>\n",
       "      <th>level</th>\n",
       "      <th>group</th>\n",
       "      <th>speciality</th>\n",
       "      <th>year</th>\n",
       "      <th>semester</th>\n",
       "      <th>subject</th>\n",
       "      <th>grade</th>\n",
       "      <th>perfomance</th>\n",
       "    </tr>\n",
       "  </thead>\n",
       "  <tbody>\n",
       "    <tr>\n",
       "      <th>0</th>\n",
       "      <td>67a80fffd8d0294a596eda117d7e393c</td>\n",
       "      <td>2010218</td>\n",
       "      <td>Академический бакалавр</td>\n",
       "      <td>БИВТ-20-4</td>\n",
       "      <td>Информатика и вычислительная техника</td>\n",
       "      <td>2020 - 2021</td>\n",
       "      <td>I полугодие</td>\n",
       "      <td>Инженерная компьютерная графика</td>\n",
       "      <td>Хорошо</td>\n",
       "      <td>Хорошо</td>\n",
       "    </tr>\n",
       "    <tr>\n",
       "      <th>1</th>\n",
       "      <td>67a80fffd8d0294a596eda117d7e393c</td>\n",
       "      <td>2010218</td>\n",
       "      <td>Академический бакалавр</td>\n",
       "      <td>БИВТ-20-4</td>\n",
       "      <td>Информатика и вычислительная техника</td>\n",
       "      <td>2020 - 2021</td>\n",
       "      <td>I полугодие</td>\n",
       "      <td>Иностранный язык</td>\n",
       "      <td>Удовлетворительно</td>\n",
       "      <td>Удовлетворительно</td>\n",
       "    </tr>\n",
       "  </tbody>\n",
       "</table>\n",
       "</div>"
      ],
      "text/plain": [
       "                               hash       id                   level  \\\n",
       "0  67a80fffd8d0294a596eda117d7e393c  2010218  Академический бакалавр   \n",
       "1  67a80fffd8d0294a596eda117d7e393c  2010218  Академический бакалавр   \n",
       "\n",
       "       group                            speciality         year     semester  \\\n",
       "0  БИВТ-20-4  Информатика и вычислительная техника  2020 - 2021  I полугодие   \n",
       "1  БИВТ-20-4  Информатика и вычислительная техника  2020 - 2021  I полугодие   \n",
       "\n",
       "                           subject              grade         perfomance  \n",
       "0  Инженерная компьютерная графика             Хорошо             Хорошо  \n",
       "1                 Иностранный язык  Удовлетворительно  Удовлетворительно  "
      ]
     },
     "execution_count": 5,
     "metadata": {},
     "output_type": "execute_result"
    }
   ],
   "source": [
    "df = df.rename(columns={\"Номер ЛД\": \"id\",\n",
    "                        \"Уровень подготовки\": \"level\",\n",
    "                        \"Учебная группа\": \"group\",\n",
    "                        \"Специальность/направление\": \"speciality\",\n",
    "                        \"Учебный год\": \"year\", \n",
    "                        \"Полугодие\": \"semester\",\n",
    "                        \"Дисциплина\": \"subject\",\n",
    "                        \"Оценка (без пересдач)\": \"grade\",\n",
    "                        \"Оценка (успеваемость)\": \"perfomance\"})\n",
    "df.head(2)"
   ]
  },
  {
   "cell_type": "markdown",
   "id": "a5b5afe5-3e6c-40a6-be12-dce6a93d0dbd",
   "metadata": {},
   "source": [
    "# EDA"
   ]
  },
  {
   "cell_type": "markdown",
   "id": "6a8455ca-2921-4c88-9783-803a70b464ae",
   "metadata": {},
   "source": [
    "Посмотрим пропуски в данных"
   ]
  },
  {
   "cell_type": "code",
   "execution_count": 6,
   "id": "899afbe4-f083-4e28-9cf5-d577c79aac54",
   "metadata": {},
   "outputs": [
    {
     "name": "stdout",
     "output_type": "stream",
     "text": [
      "Количество пропусков в данных по колонкам (проценты):\n"
     ]
    },
    {
     "data": {
      "text/plain": [
       "hash           0.0 %\n",
       "id             0.0 %\n",
       "level          0.0 %\n",
       "group          0.0 %\n",
       "speciality     0.0 %\n",
       "year           0.0 %\n",
       "semester       0.0 %\n",
       "subject        0.0 %\n",
       "grade         49.7 %\n",
       "perfomance    47.7 %\n",
       "dtype: object"
      ]
     },
     "execution_count": 6,
     "metadata": {},
     "output_type": "execute_result"
    }
   ],
   "source": [
    "print(\"Количество пропусков в данных по колонкам (проценты):\")\n",
    "round(df.isnull().sum() / len(df) * 100, 1).astype(\"str\") + \" %\""
   ]
  },
  {
   "cell_type": "markdown",
   "id": "39194312-a730-41c8-828e-049f17bfa5ec",
   "metadata": {},
   "source": [
    "Колонки `grade` и `perfomance` имею почти по 50% пропущенных данных. Позже разберемся в чем дело"
   ]
  },
  {
   "cell_type": "markdown",
   "id": "d6471b18-fbc0-4e50-93b9-0d3de88967c0",
   "metadata": {},
   "source": [
    "Взглянем на описательные статистики"
   ]
  },
  {
   "cell_type": "code",
   "execution_count": 7,
   "id": "9e201d1f-efc8-4e5d-8944-9f8e3573a971",
   "metadata": {},
   "outputs": [
    {
     "data": {
      "text/html": [
       "<div>\n",
       "<style scoped>\n",
       "    .dataframe tbody tr th:only-of-type {\n",
       "        vertical-align: middle;\n",
       "    }\n",
       "\n",
       "    .dataframe tbody tr th {\n",
       "        vertical-align: top;\n",
       "    }\n",
       "\n",
       "    .dataframe thead th {\n",
       "        text-align: right;\n",
       "    }\n",
       "</style>\n",
       "<table border=\"1\" class=\"dataframe\">\n",
       "  <thead>\n",
       "    <tr style=\"text-align: right;\">\n",
       "      <th></th>\n",
       "      <th>hash</th>\n",
       "      <th>level</th>\n",
       "      <th>group</th>\n",
       "      <th>speciality</th>\n",
       "      <th>year</th>\n",
       "      <th>semester</th>\n",
       "      <th>subject</th>\n",
       "      <th>grade</th>\n",
       "      <th>perfomance</th>\n",
       "    </tr>\n",
       "  </thead>\n",
       "  <tbody>\n",
       "    <tr>\n",
       "      <th>count</th>\n",
       "      <td>376007</td>\n",
       "      <td>376007</td>\n",
       "      <td>376007</td>\n",
       "      <td>376007</td>\n",
       "      <td>376007</td>\n",
       "      <td>376007</td>\n",
       "      <td>376007</td>\n",
       "      <td>189004</td>\n",
       "      <td>196522</td>\n",
       "    </tr>\n",
       "    <tr>\n",
       "      <th>unique</th>\n",
       "      <td>9085</td>\n",
       "      <td>4</td>\n",
       "      <td>489</td>\n",
       "      <td>27</td>\n",
       "      <td>11</td>\n",
       "      <td>2</td>\n",
       "      <td>2096</td>\n",
       "      <td>9</td>\n",
       "      <td>9</td>\n",
       "    </tr>\n",
       "    <tr>\n",
       "      <th>top</th>\n",
       "      <td>002ed2297ad196e3b8a7e668f32d125b</td>\n",
       "      <td>Академический бакалавр</td>\n",
       "      <td>БЛГ-20-8</td>\n",
       "      <td>Лингвистика</td>\n",
       "      <td>2023 - 2024</td>\n",
       "      <td>II полугодие</td>\n",
       "      <td>Иностранный язык</td>\n",
       "      <td>Отлично</td>\n",
       "      <td>Отлично</td>\n",
       "    </tr>\n",
       "    <tr>\n",
       "      <th>freq</th>\n",
       "      <td>218</td>\n",
       "      <td>203074</td>\n",
       "      <td>3167</td>\n",
       "      <td>75400</td>\n",
       "      <td>158114</td>\n",
       "      <td>195820</td>\n",
       "      <td>30031</td>\n",
       "      <td>54506</td>\n",
       "      <td>57863</td>\n",
       "    </tr>\n",
       "  </tbody>\n",
       "</table>\n",
       "</div>"
      ],
      "text/plain": [
       "                                    hash                   level     group  \\\n",
       "count                             376007                  376007    376007   \n",
       "unique                              9085                       4       489   \n",
       "top     002ed2297ad196e3b8a7e668f32d125b  Академический бакалавр  БЛГ-20-8   \n",
       "freq                                 218                  203074      3167   \n",
       "\n",
       "         speciality         year      semester           subject    grade  \\\n",
       "count        376007       376007        376007            376007   189004   \n",
       "unique           27           11             2              2096        9   \n",
       "top     Лингвистика  2023 - 2024  II полугодие  Иностранный язык  Отлично   \n",
       "freq          75400       158114        195820             30031    54506   \n",
       "\n",
       "       perfomance  \n",
       "count      196522  \n",
       "unique          9  \n",
       "top       Отлично  \n",
       "freq        57863  "
      ]
     },
     "execution_count": 7,
     "metadata": {},
     "output_type": "execute_result"
    }
   ],
   "source": [
    "df.describe(include=\"object\")"
   ]
  },
  {
   "cell_type": "code",
   "execution_count": 8,
   "id": "47bdb09e-348f-4d2e-85e3-f9141794bd22",
   "metadata": {},
   "outputs": [
    {
     "name": "stdout",
     "output_type": "stream",
     "text": [
      "Количество студентов: \t 9098\n",
      "Количество студентов: \t 489\n"
     ]
    }
   ],
   "source": [
    "print(f\"Количество студентов: \\t {df.id.nunique()}\")\n",
    "print(f\"Количество студентов: \\t {df.group.nunique()}\")"
   ]
  },
  {
   "cell_type": "code",
   "execution_count": 9,
   "id": "3c252905-450a-4994-adac-a446cdc1c38d",
   "metadata": {},
   "outputs": [
    {
     "data": {
      "text/plain": [
       "array(['Хорошо', 'Удовлетворительно', 'зачтено', nan, 'Отлично',\n",
       "       'Неудовлетворительно', 'Неявка', 'не зачтено',\n",
       "       'Неявка по ув.причине', 'Не допущен'], dtype=object)"
      ]
     },
     "execution_count": 9,
     "metadata": {},
     "output_type": "execute_result"
    }
   ],
   "source": [
    "df.grade.unique()"
   ]
  },
  {
   "cell_type": "code",
   "execution_count": 10,
   "id": "298d63ef-59a2-412b-a1af-b64ad38e8368",
   "metadata": {},
   "outputs": [
    {
     "data": {
      "text/plain": [
       "array(['Хорошо', 'Удовлетворительно', 'зачтено', 'Отлично', nan,\n",
       "       'Неудовлетворительно', 'Неявка', 'не зачтено',\n",
       "       'Неявка по ув.причине', 'Не допущен'], dtype=object)"
      ]
     },
     "execution_count": 10,
     "metadata": {},
     "output_type": "execute_result"
    }
   ],
   "source": [
    "df.perfomance.unique()"
   ]
  },
  {
   "cell_type": "code",
   "execution_count": 11,
   "id": "a4abc418-6b6b-4926-bc85-3c13b2d1fa95",
   "metadata": {},
   "outputs": [
    {
     "data": {
      "image/png": "[encoded data removed]",
      "text/plain": [
       "<Figure size 1400x500 with 2 Axes>"
      ]
     },
     "metadata": {},
     "output_type": "display_data"
    }
   ],
   "source": [
    "fig = plt.figure(figsize=(14, 5))\n",
    "\n",
    "ax_1 = plt.subplot(1, 2, 1)\n",
    "\n",
    "sns.barplot(df.grade.value_counts())\n",
    "\n",
    "plt.title(\"Рапределение оценок\")\n",
    "plt.xticks(rotation=60)\n",
    "\n",
    "ax_2 = plt.subplot(1, 2, 2)\n",
    "\n",
    "sns.barplot(df.perfomance.value_counts())\n",
    "\n",
    "plt.title(\"Рапределение успеваемости\")\n",
    "plt.xticks(rotation=60)\n",
    "\n",
    "plt.show()"
   ]
  },
  {
   "cell_type": "code",
   "execution_count": 12,
   "id": "2eaa1132-f725-4473-b74f-6632e5b15c30",
   "metadata": {},
   "outputs": [
    {
     "data": {
      "text/plain": [
       "perfomance\n",
       "Отлично                 57863\n",
       "Удовлетворительно       44577\n",
       "зачтено                 42812\n",
       "Хорошо                  42761\n",
       "Неявка                   5504\n",
       "не зачтено               1576\n",
       "Неудовлетворительно      1419\n",
       "Неявка по ув.причине        9\n",
       "Не допущен                  1\n",
       "Name: count, dtype: int64"
      ]
     },
     "execution_count": 12,
     "metadata": {},
     "output_type": "execute_result"
    }
   ],
   "source": [
    "df.perfomance.value_counts()"
   ]
  },
  {
   "cell_type": "markdown",
   "id": "dd060778-651a-4f20-93ea-fa0ce291ed50",
   "metadata": {},
   "source": [
    "У меня не было изначальной расшифровки колонок и условий, при которых студент считается отчисленым. Поэтому я буду считать, что: <br>\n",
    "- `Оценка (без пересдач)` (grade) - оценка за экзамен\n",
    "- `Оценка (успеваемость)` (perfomance) - итоговая оценка за предмет с учетом первой и второй пересдачи\n",
    "- В `grade` спокойно может быть любая оценка, но вот, если в `perfomance` неуд, не зачтено или неявка, то студент считается отчисленным **P.S. В EDA -> Target поменял критерий**\n",
    "- Небольшая ремарка по предыдущему пункту: последняя пересдача, как правило, примерно через год, соответсвенно, если в 2022 году, например, что-то не сдал, то он дальше может продолжить получать оценки по другим предметам, но как только он не сдает последнюю пересдачу (`perfomance`), студента отчисляют и дальше идут NaN"
   ]
  },
  {
   "cell_type": "code",
   "execution_count": 13,
   "id": "f2066c31-2b54-4b26-a3f1-329c747e3aee",
   "metadata": {},
   "outputs": [
    {
     "name": "stdout",
     "output_type": "stream",
     "text": [
      "Получается, что каждый 4-ий студент отчислен\n"
     ]
    }
   ],
   "source": [
    "dismissed = df[df.perfomance.isin([\"Неудовлетворительно\", \"не зачтено\", \"Неявка\"])].id.nunique()\n",
    "print(f'Получается, что каждый {round(df.id.nunique() / dismissed)}-ий студент отчислен')"
   ]
  },
  {
   "cell_type": "markdown",
   "id": "151cd730-10a2-483f-924a-7e1dc3062e19",
   "metadata": {},
   "source": [
    "Например, из группы в 24 человека, в конечном итоге будет отчислено приблизительно 8 человек - что в целом звучит примерно нормально, но возможно все же многовато\n",
    "\n",
    "Возможно критерий отчисления не должна входить \"Неявка\", но кажется, что, если человек не появился на последней пересдаче, то он не сдал экзамен и соответсвенно отчислен.\n",
    "\n",
    "*Этот момент требует уточнения.*"
   ]
  },
  {
   "cell_type": "markdown",
   "id": "05294e6f-9b2a-4e74-b5d7-63f60de2c06b",
   "metadata": {},
   "source": [
    "Также можем заметить, что факта неявки на пересдачи по предметам в 1.8 раз больше, чем незачетов + неудов. Вероятно, некоторые студенты в какой-то момент просто перестают появляться в вузе и на экзаменах - забрасывают универ"
   ]
  },
  {
   "cell_type": "markdown",
   "id": "a15c6426-1acd-4aea-81ec-df4bb2415ba3",
   "metadata": {},
   "source": [
    "## Year"
   ]
  },
  {
   "cell_type": "markdown",
   "id": "65f517df-e73b-4eb3-b11c-a875ccf418cc",
   "metadata": {},
   "source": [
    "Поработаем с колонкой `year`"
   ]
  },
  {
   "cell_type": "code",
   "execution_count": 14,
   "id": "51b2c581-7acb-49f1-9c1c-cbda0c9f8385",
   "metadata": {},
   "outputs": [
    {
     "data": {
      "text/plain": [
       "year\n",
       "2023 - 2024    158114\n",
       "2022 - 2023    113950\n",
       "2021 - 2022     67558\n",
       "2020 - 2021     28226\n",
       "2019 - 2020      5520\n",
       "2018 - 2019      2299\n",
       "2024 - 2025       282\n",
       "2025 - 2026        37\n",
       "2017 - 2018        15\n",
       "2026 - 2027         5\n",
       "2027 - 2028         1\n",
       "Name: count, dtype: int64"
      ]
     },
     "execution_count": 14,
     "metadata": {},
     "output_type": "execute_result"
    }
   ],
   "source": [
    "df.year.value_counts()"
   ]
  },
  {
   "cell_type": "code",
   "execution_count": 15,
   "id": "b9eb3e7b-d9f9-4c13-adf1-0a5c506c2f5e",
   "metadata": {},
   "outputs": [
    {
     "data": {
      "image/png": "[encoded data removed]",
      "text/plain": [
       "<Figure size 640x480 with 1 Axes>"
      ]
     },
     "metadata": {},
     "output_type": "display_data"
    }
   ],
   "source": [
    "sns.barplot(df.year.value_counts(), order=[\"2017 - 2018\", \"2018 - 2019\", \"2019 - 2020\", \"2021 - 2022\", \"2022 - 2023\", \n",
    "                                           \"2023 - 2024\", \"2024 - 2025\", \"2025 - 2026\", \"2026 - 2027\", \"2027 - 2028\"])\n",
    "\n",
    "plt.title(\"Распределение годов\")\n",
    "plt.xticks(rotation=60)\n",
    "\n",
    "plt.show()"
   ]
  },
  {
   "cell_type": "markdown",
   "id": "3a1ee827-d033-47fe-89ef-5ffe973c0ffb",
   "metadata": {},
   "source": [
    "Странно, что есть какие-то данные за период 2024 - 2028. Посмотрим в ручную на эти записи"
   ]
  },
  {
   "cell_type": "markdown",
   "id": "64ae9d60-39df-4085-9ae5-c0e1e5b3a341",
   "metadata": {},
   "source": [
    "Сначала взглянем на период 2023 - 2024 второе полугодие, потому что оценок за этот период еще никаких не должно быть"
   ]
  },
  {
   "cell_type": "code",
   "execution_count": 16,
   "id": "61abd956-0445-410e-87af-f9cc27dc7b59",
   "metadata": {},
   "outputs": [
    {
     "name": "stdout",
     "output_type": "stream",
     "text": [
      "Количество записей: 77317\n"
     ]
    },
    {
     "data": {
      "text/html": [
       "<div>\n",
       "<style scoped>\n",
       "    .dataframe tbody tr th:only-of-type {\n",
       "        vertical-align: middle;\n",
       "    }\n",
       "\n",
       "    .dataframe tbody tr th {\n",
       "        vertical-align: top;\n",
       "    }\n",
       "\n",
       "    .dataframe thead th {\n",
       "        text-align: right;\n",
       "    }\n",
       "</style>\n",
       "<table border=\"1\" class=\"dataframe\">\n",
       "  <thead>\n",
       "    <tr style=\"text-align: right;\">\n",
       "      <th></th>\n",
       "      <th>hash</th>\n",
       "      <th>id</th>\n",
       "      <th>level</th>\n",
       "      <th>group</th>\n",
       "      <th>speciality</th>\n",
       "      <th>year</th>\n",
       "      <th>semester</th>\n",
       "      <th>subject</th>\n",
       "      <th>grade</th>\n",
       "      <th>perfomance</th>\n",
       "    </tr>\n",
       "  </thead>\n",
       "  <tbody>\n",
       "    <tr>\n",
       "      <th>59</th>\n",
       "      <td>67a80fffd8d0294a596eda117d7e393c</td>\n",
       "      <td>2010218</td>\n",
       "      <td>Академический бакалавр</td>\n",
       "      <td>БИВТ-20-4</td>\n",
       "      <td>Информатика и вычислительная техника</td>\n",
       "      <td>2023 - 2024</td>\n",
       "      <td>II полугодие</td>\n",
       "      <td>Аппаратные средства хранения и обработки данных</td>\n",
       "      <td>NaN</td>\n",
       "      <td>NaN</td>\n",
       "    </tr>\n",
       "    <tr>\n",
       "      <th>60</th>\n",
       "      <td>67a80fffd8d0294a596eda117d7e393c</td>\n",
       "      <td>2010218</td>\n",
       "      <td>Академический бакалавр</td>\n",
       "      <td>БИВТ-20-4</td>\n",
       "      <td>Информатика и вычислительная техника</td>\n",
       "      <td>2023 - 2024</td>\n",
       "      <td>II полугодие</td>\n",
       "      <td>Информационная безопасность и кодирование</td>\n",
       "      <td>NaN</td>\n",
       "      <td>NaN</td>\n",
       "    </tr>\n",
       "    <tr>\n",
       "      <th>61</th>\n",
       "      <td>67a80fffd8d0294a596eda117d7e393c</td>\n",
       "      <td>2010218</td>\n",
       "      <td>Академический бакалавр</td>\n",
       "      <td>БИВТ-20-4</td>\n",
       "      <td>Информатика и вычислительная техника</td>\n",
       "      <td>2023 - 2024</td>\n",
       "      <td>II полугодие</td>\n",
       "      <td>Информационно-управляющие системы</td>\n",
       "      <td>NaN</td>\n",
       "      <td>NaN</td>\n",
       "    </tr>\n",
       "    <tr>\n",
       "      <th>62</th>\n",
       "      <td>67a80fffd8d0294a596eda117d7e393c</td>\n",
       "      <td>2010218</td>\n",
       "      <td>Академический бакалавр</td>\n",
       "      <td>БИВТ-20-4</td>\n",
       "      <td>Информатика и вычислительная техника</td>\n",
       "      <td>2023 - 2024</td>\n",
       "      <td>II полугодие</td>\n",
       "      <td>Курсовая научно-исследовательская работа</td>\n",
       "      <td>NaN</td>\n",
       "      <td>NaN</td>\n",
       "    </tr>\n",
       "    <tr>\n",
       "      <th>63</th>\n",
       "      <td>67a80fffd8d0294a596eda117d7e393c</td>\n",
       "      <td>2010218</td>\n",
       "      <td>Академический бакалавр</td>\n",
       "      <td>БИВТ-20-4</td>\n",
       "      <td>Информатика и вычислительная техника</td>\n",
       "      <td>2023 - 2024</td>\n",
       "      <td>II полугодие</td>\n",
       "      <td>Методы параллельной обработки данных</td>\n",
       "      <td>NaN</td>\n",
       "      <td>NaN</td>\n",
       "    </tr>\n",
       "  </tbody>\n",
       "</table>\n",
       "</div>"
      ],
      "text/plain": [
       "                                hash       id                   level  \\\n",
       "59  67a80fffd8d0294a596eda117d7e393c  2010218  Академический бакалавр   \n",
       "60  67a80fffd8d0294a596eda117d7e393c  2010218  Академический бакалавр   \n",
       "61  67a80fffd8d0294a596eda117d7e393c  2010218  Академический бакалавр   \n",
       "62  67a80fffd8d0294a596eda117d7e393c  2010218  Академический бакалавр   \n",
       "63  67a80fffd8d0294a596eda117d7e393c  2010218  Академический бакалавр   \n",
       "\n",
       "        group                            speciality         year  \\\n",
       "59  БИВТ-20-4  Информатика и вычислительная техника  2023 - 2024   \n",
       "60  БИВТ-20-4  Информатика и вычислительная техника  2023 - 2024   \n",
       "61  БИВТ-20-4  Информатика и вычислительная техника  2023 - 2024   \n",
       "62  БИВТ-20-4  Информатика и вычислительная техника  2023 - 2024   \n",
       "63  БИВТ-20-4  Информатика и вычислительная техника  2023 - 2024   \n",
       "\n",
       "        semester                                          subject grade  \\\n",
       "59  II полугодие  Аппаратные средства хранения и обработки данных   NaN   \n",
       "60  II полугодие        Информационная безопасность и кодирование   NaN   \n",
       "61  II полугодие                Информационно-управляющие системы   NaN   \n",
       "62  II полугодие         Курсовая научно-исследовательская работа   NaN   \n",
       "63  II полугодие             Методы параллельной обработки данных   NaN   \n",
       "\n",
       "   perfomance  \n",
       "59        NaN  \n",
       "60        NaN  \n",
       "61        NaN  \n",
       "62        NaN  \n",
       "63        NaN  "
      ]
     },
     "execution_count": 16,
     "metadata": {},
     "output_type": "execute_result"
    }
   ],
   "source": [
    "print(\"Количество записей: \" + str(df[(df.year == \"2023 - 2024\") & (df.semester == \"II полугодие\")].shape[0]))\n",
    "\n",
    "df[(df.year == \"2023 - 2024\") & (df.semester == \"II полугодие\")].head()"
   ]
  },
  {
   "cell_type": "markdown",
   "id": "0ab1bd5a-05b4-4c5d-b7ff-b6996b03939a",
   "metadata": {},
   "source": [
    "Посмотрим на количество пропусков в `grade` и `perfomance`"
   ]
  },
  {
   "cell_type": "code",
   "execution_count": 17,
   "id": "4603b433-3fcd-4b15-99e5-492663e0cfb3",
   "metadata": {},
   "outputs": [
    {
     "data": {
      "text/plain": [
       "grade         76501\n",
       "perfomance    76470\n",
       "dtype: int64"
      ]
     },
     "execution_count": 17,
     "metadata": {},
     "output_type": "execute_result"
    }
   ],
   "source": [
    "df[(df.year == \"2023 - 2024\") & (df.semester == \"II полугодие\")][[\"grade\", \"perfomance\"]].isna().sum()"
   ]
  },
  {
   "cell_type": "markdown",
   "id": "234fbf30-8f01-4178-a711-808ff551d187",
   "metadata": {},
   "source": [
    "Можем заметить, что в 99% случаях за 2023 - 2024 год второй семестр данные об оценках пропущены, что кажется логичным, ведь этот семестр только начался.\n",
    "\n",
    "Сразу удалим данные, где `perfomance` и `grade` пропущены за семестр, который только начался"
   ]
  },
  {
   "cell_type": "code",
   "execution_count": 18,
   "id": "27266181-5dea-454e-aecf-fdbe45e49c0e",
   "metadata": {},
   "outputs": [],
   "source": [
    "df = df[~((df.grade.isna())& (df.perfomance.isna()) & (df.year == \"2023 - 2024\") & (df.semester == \"II полугодие\"))]"
   ]
  },
  {
   "cell_type": "markdown",
   "id": "a220b4bf-c2ee-482f-b251-54a75658b989",
   "metadata": {},
   "source": [
    "Посмотрим на ненулевые записи в колонке `grade`"
   ]
  },
  {
   "cell_type": "code",
   "execution_count": 19,
   "id": "c54db2a7-4669-4864-b441-ecb61cddff52",
   "metadata": {},
   "outputs": [
    {
     "data": {
      "text/html": [
       "<div>\n",
       "<style scoped>\n",
       "    .dataframe tbody tr th:only-of-type {\n",
       "        vertical-align: middle;\n",
       "    }\n",
       "\n",
       "    .dataframe tbody tr th {\n",
       "        vertical-align: top;\n",
       "    }\n",
       "\n",
       "    .dataframe thead th {\n",
       "        text-align: right;\n",
       "    }\n",
       "</style>\n",
       "<table border=\"1\" class=\"dataframe\">\n",
       "  <thead>\n",
       "    <tr style=\"text-align: right;\">\n",
       "      <th></th>\n",
       "      <th>hash</th>\n",
       "      <th>id</th>\n",
       "      <th>level</th>\n",
       "      <th>group</th>\n",
       "      <th>speciality</th>\n",
       "      <th>year</th>\n",
       "      <th>semester</th>\n",
       "      <th>subject</th>\n",
       "      <th>grade</th>\n",
       "      <th>perfomance</th>\n",
       "    </tr>\n",
       "  </thead>\n",
       "  <tbody>\n",
       "    <tr>\n",
       "      <th>4092</th>\n",
       "      <td>f185715600a8147a4f5ab689320f432b</td>\n",
       "      <td>1909744</td>\n",
       "      <td>Академический бакалавр</td>\n",
       "      <td>БЭК-19-3з</td>\n",
       "      <td>Экономика</td>\n",
       "      <td>2023 - 2024</td>\n",
       "      <td>II полугодие</td>\n",
       "      <td>Анализ финансовой отчетности</td>\n",
       "      <td>зачтено</td>\n",
       "      <td>зачтено</td>\n",
       "    </tr>\n",
       "    <tr>\n",
       "      <th>4093</th>\n",
       "      <td>f185715600a8147a4f5ab689320f432b</td>\n",
       "      <td>1909744</td>\n",
       "      <td>Академический бакалавр</td>\n",
       "      <td>БЭК-19-3з</td>\n",
       "      <td>Экономика</td>\n",
       "      <td>2023 - 2024</td>\n",
       "      <td>II полугодие</td>\n",
       "      <td>Бюджет предприятия</td>\n",
       "      <td>Удовлетворительно</td>\n",
       "      <td>Удовлетворительно</td>\n",
       "    </tr>\n",
       "    <tr>\n",
       "      <th>4095</th>\n",
       "      <td>f185715600a8147a4f5ab689320f432b</td>\n",
       "      <td>1909744</td>\n",
       "      <td>Академический бакалавр</td>\n",
       "      <td>БЭК-19-3з</td>\n",
       "      <td>Экономика</td>\n",
       "      <td>2023 - 2024</td>\n",
       "      <td>II полугодие</td>\n",
       "      <td>Ключевые экономические показатели бизнеса</td>\n",
       "      <td>Удовлетворительно</td>\n",
       "      <td>Удовлетворительно</td>\n",
       "    </tr>\n",
       "    <tr>\n",
       "      <th>4096</th>\n",
       "      <td>f185715600a8147a4f5ab689320f432b</td>\n",
       "      <td>1909744</td>\n",
       "      <td>Академический бакалавр</td>\n",
       "      <td>БЭК-19-3з</td>\n",
       "      <td>Экономика</td>\n",
       "      <td>2023 - 2024</td>\n",
       "      <td>II полугодие</td>\n",
       "      <td>Налоги и налогообложение</td>\n",
       "      <td>Неудовлетворительно</td>\n",
       "      <td>Неудовлетворительно</td>\n",
       "    </tr>\n",
       "    <tr>\n",
       "      <th>4100</th>\n",
       "      <td>f185715600a8147a4f5ab689320f432b</td>\n",
       "      <td>1909744</td>\n",
       "      <td>Академический бакалавр</td>\n",
       "      <td>БЭК-19-3з</td>\n",
       "      <td>Экономика</td>\n",
       "      <td>2023 - 2024</td>\n",
       "      <td>II полугодие</td>\n",
       "      <td>Управление проектами</td>\n",
       "      <td>зачтено</td>\n",
       "      <td>зачтено</td>\n",
       "    </tr>\n",
       "    <tr>\n",
       "      <th>...</th>\n",
       "      <td>...</td>\n",
       "      <td>...</td>\n",
       "      <td>...</td>\n",
       "      <td>...</td>\n",
       "      <td>...</td>\n",
       "      <td>...</td>\n",
       "      <td>...</td>\n",
       "      <td>...</td>\n",
       "      <td>...</td>\n",
       "      <td>...</td>\n",
       "    </tr>\n",
       "    <tr>\n",
       "      <th>373383</th>\n",
       "      <td>8e3c7b5807d8efdc9b1f000dce40fcad</td>\n",
       "      <td>2112004</td>\n",
       "      <td>Специалист</td>\n",
       "      <td>СГД-21-6з</td>\n",
       "      <td>Горное дело</td>\n",
       "      <td>2023 - 2024</td>\n",
       "      <td>II полугодие</td>\n",
       "      <td>Геология</td>\n",
       "      <td>Неявка</td>\n",
       "      <td>Неявка</td>\n",
       "    </tr>\n",
       "    <tr>\n",
       "      <th>373384</th>\n",
       "      <td>8e3c7b5807d8efdc9b1f000dce40fcad</td>\n",
       "      <td>2112004</td>\n",
       "      <td>Специалист</td>\n",
       "      <td>СГД-21-6з</td>\n",
       "      <td>Горное дело</td>\n",
       "      <td>2023 - 2024</td>\n",
       "      <td>II полугодие</td>\n",
       "      <td>Горнопромышленная экология</td>\n",
       "      <td>Неявка</td>\n",
       "      <td>Неявка</td>\n",
       "    </tr>\n",
       "    <tr>\n",
       "      <th>373389</th>\n",
       "      <td>8e3c7b5807d8efdc9b1f000dce40fcad</td>\n",
       "      <td>2112004</td>\n",
       "      <td>Специалист</td>\n",
       "      <td>СГД-21-6з</td>\n",
       "      <td>Горное дело</td>\n",
       "      <td>2023 - 2024</td>\n",
       "      <td>II полугодие</td>\n",
       "      <td>Прикладная механика</td>\n",
       "      <td>не зачтено</td>\n",
       "      <td>не зачтено</td>\n",
       "    </tr>\n",
       "    <tr>\n",
       "      <th>373392</th>\n",
       "      <td>8e3c7b5807d8efdc9b1f000dce40fcad</td>\n",
       "      <td>2112004</td>\n",
       "      <td>Специалист</td>\n",
       "      <td>СГД-21-6з</td>\n",
       "      <td>Горное дело</td>\n",
       "      <td>2023 - 2024</td>\n",
       "      <td>II полугодие</td>\n",
       "      <td>Физика горных пород</td>\n",
       "      <td>Неявка</td>\n",
       "      <td>Неявка</td>\n",
       "    </tr>\n",
       "    <tr>\n",
       "      <th>373393</th>\n",
       "      <td>8e3c7b5807d8efdc9b1f000dce40fcad</td>\n",
       "      <td>2112004</td>\n",
       "      <td>Специалист</td>\n",
       "      <td>СГД-21-6з</td>\n",
       "      <td>Горное дело</td>\n",
       "      <td>2023 - 2024</td>\n",
       "      <td>II полугодие</td>\n",
       "      <td>Электротехника и электроника</td>\n",
       "      <td>Неявка</td>\n",
       "      <td>Неявка</td>\n",
       "    </tr>\n",
       "  </tbody>\n",
       "</table>\n",
       "<p>816 rows × 10 columns</p>\n",
       "</div>"
      ],
      "text/plain": [
       "                                    hash       id                   level  \\\n",
       "4092    f185715600a8147a4f5ab689320f432b  1909744  Академический бакалавр   \n",
       "4093    f185715600a8147a4f5ab689320f432b  1909744  Академический бакалавр   \n",
       "4095    f185715600a8147a4f5ab689320f432b  1909744  Академический бакалавр   \n",
       "4096    f185715600a8147a4f5ab689320f432b  1909744  Академический бакалавр   \n",
       "4100    f185715600a8147a4f5ab689320f432b  1909744  Академический бакалавр   \n",
       "...                                  ...      ...                     ...   \n",
       "373383  8e3c7b5807d8efdc9b1f000dce40fcad  2112004              Специалист   \n",
       "373384  8e3c7b5807d8efdc9b1f000dce40fcad  2112004              Специалист   \n",
       "373389  8e3c7b5807d8efdc9b1f000dce40fcad  2112004              Специалист   \n",
       "373392  8e3c7b5807d8efdc9b1f000dce40fcad  2112004              Специалист   \n",
       "373393  8e3c7b5807d8efdc9b1f000dce40fcad  2112004              Специалист   \n",
       "\n",
       "            group   speciality         year      semester  \\\n",
       "4092    БЭК-19-3з    Экономика  2023 - 2024  II полугодие   \n",
       "4093    БЭК-19-3з    Экономика  2023 - 2024  II полугодие   \n",
       "4095    БЭК-19-3з    Экономика  2023 - 2024  II полугодие   \n",
       "4096    БЭК-19-3з    Экономика  2023 - 2024  II полугодие   \n",
       "4100    БЭК-19-3з    Экономика  2023 - 2024  II полугодие   \n",
       "...           ...          ...          ...           ...   \n",
       "373383  СГД-21-6з  Горное дело  2023 - 2024  II полугодие   \n",
       "373384  СГД-21-6з  Горное дело  2023 - 2024  II полугодие   \n",
       "373389  СГД-21-6з  Горное дело  2023 - 2024  II полугодие   \n",
       "373392  СГД-21-6з  Горное дело  2023 - 2024  II полугодие   \n",
       "373393  СГД-21-6з  Горное дело  2023 - 2024  II полугодие   \n",
       "\n",
       "                                          subject                grade  \\\n",
       "4092                 Анализ финансовой отчетности              зачтено   \n",
       "4093                           Бюджет предприятия    Удовлетворительно   \n",
       "4095    Ключевые экономические показатели бизнеса    Удовлетворительно   \n",
       "4096                     Налоги и налогообложение  Неудовлетворительно   \n",
       "4100                         Управление проектами              зачтено   \n",
       "...                                           ...                  ...   \n",
       "373383                                   Геология               Неявка   \n",
       "373384                 Горнопромышленная экология               Неявка   \n",
       "373389                        Прикладная механика           не зачтено   \n",
       "373392                        Физика горных пород               Неявка   \n",
       "373393               Электротехника и электроника               Неявка   \n",
       "\n",
       "                 perfomance  \n",
       "4092                зачтено  \n",
       "4093      Удовлетворительно  \n",
       "4095      Удовлетворительно  \n",
       "4096    Неудовлетворительно  \n",
       "4100                зачтено  \n",
       "...                     ...  \n",
       "373383               Неявка  \n",
       "373384               Неявка  \n",
       "373389           не зачтено  \n",
       "373392               Неявка  \n",
       "373393               Неявка  \n",
       "\n",
       "[816 rows x 10 columns]"
      ]
     },
     "execution_count": 19,
     "metadata": {},
     "output_type": "execute_result"
    }
   ],
   "source": [
    "df[~(df.grade.isna()) & (df.year == \"2023 - 2024\") & (df.semester == \"II полугодие\")]"
   ]
  },
  {
   "cell_type": "markdown",
   "id": "1b84b3e7-6fbe-404c-bfbc-4961f3efc1b1",
   "metadata": {},
   "source": [
    "Мне сложно объяснить природу этих данных. Возможно это какая-то досрочная сдача или что-то другое.\n",
    "\n",
    "Пока что я удалю эти записи из данных."
   ]
  },
  {
   "cell_type": "code",
   "execution_count": 20,
   "id": "102ec214-0dd8-465f-96e4-e7547bd4ebab",
   "metadata": {},
   "outputs": [],
   "source": [
    "df = df[~(~(df.grade.isna()) & (df.year == \"2023 - 2024\") & (df.semester == \"II полугодие\"))]"
   ]
  },
  {
   "cell_type": "code",
   "execution_count": 21,
   "id": "b73d6acf-da81-45b2-822f-e8fb754dcde8",
   "metadata": {},
   "outputs": [
    {
     "data": {
      "text/html": [
       "<div>\n",
       "<style scoped>\n",
       "    .dataframe tbody tr th:only-of-type {\n",
       "        vertical-align: middle;\n",
       "    }\n",
       "\n",
       "    .dataframe tbody tr th {\n",
       "        vertical-align: top;\n",
       "    }\n",
       "\n",
       "    .dataframe thead th {\n",
       "        text-align: right;\n",
       "    }\n",
       "</style>\n",
       "<table border=\"1\" class=\"dataframe\">\n",
       "  <thead>\n",
       "    <tr style=\"text-align: right;\">\n",
       "      <th></th>\n",
       "      <th>hash</th>\n",
       "      <th>id</th>\n",
       "      <th>level</th>\n",
       "      <th>group</th>\n",
       "      <th>speciality</th>\n",
       "      <th>year</th>\n",
       "      <th>semester</th>\n",
       "      <th>subject</th>\n",
       "      <th>grade</th>\n",
       "      <th>perfomance</th>\n",
       "    </tr>\n",
       "  </thead>\n",
       "  <tbody>\n",
       "  </tbody>\n",
       "</table>\n",
       "</div>"
      ],
      "text/plain": [
       "Empty DataFrame\n",
       "Columns: [hash, id, level, group, speciality, year, semester, subject, grade, perfomance]\n",
       "Index: []"
      ]
     },
     "execution_count": 21,
     "metadata": {},
     "output_type": "execute_result"
    }
   ],
   "source": [
    "df[(~df.grade.isna()) & (df.perfomance.isna()) & (df.year == \"2023 - 2024\") & (df.semester == \"II полугодие\")]"
   ]
  },
  {
   "cell_type": "markdown",
   "id": "d779f536-1259-47c0-9810-e355482f1fdb",
   "metadata": {},
   "source": [
    "Объектов, чтобы не был пропущен `grade`, но был пропущен `perfomance` за этот период нет"
   ]
  },
  {
   "cell_type": "markdown",
   "id": "e03a95d2-a6e6-4108-bb50-bbc03eb44bdd",
   "metadata": {},
   "source": [
    "Взглянем теперь на ненулевые записи в колонке `perfomance` за 2023 - 2024 год второй семестр"
   ]
  },
  {
   "cell_type": "code",
   "execution_count": 22,
   "id": "7e66183c-df62-4c2b-a162-ac01ffc6bee4",
   "metadata": {},
   "outputs": [
    {
     "name": "stdout",
     "output_type": "stream",
     "text": [
      "Количество строчек:                 371\n",
      "Количество строчек с нулевым grade: 371\n",
      "Уникальные значения в perfomance:   ['Хорошо' 'Удовлетворительно' 'Отлично' 'зачтено']\n"
     ]
    },
    {
     "data": {
      "text/html": [
       "<div>\n",
       "<style scoped>\n",
       "    .dataframe tbody tr th:only-of-type {\n",
       "        vertical-align: middle;\n",
       "    }\n",
       "\n",
       "    .dataframe tbody tr th {\n",
       "        vertical-align: top;\n",
       "    }\n",
       "\n",
       "    .dataframe thead th {\n",
       "        text-align: right;\n",
       "    }\n",
       "</style>\n",
       "<table border=\"1\" class=\"dataframe\">\n",
       "  <thead>\n",
       "    <tr style=\"text-align: right;\">\n",
       "      <th></th>\n",
       "      <th>hash</th>\n",
       "      <th>id</th>\n",
       "      <th>level</th>\n",
       "      <th>group</th>\n",
       "      <th>speciality</th>\n",
       "      <th>year</th>\n",
       "      <th>semester</th>\n",
       "      <th>subject</th>\n",
       "      <th>grade</th>\n",
       "      <th>perfomance</th>\n",
       "    </tr>\n",
       "  </thead>\n",
       "  <tbody>\n",
       "    <tr>\n",
       "      <th>1400</th>\n",
       "      <td>64a9281296895f40b84a42cd7d6a16d2</td>\n",
       "      <td>2214073</td>\n",
       "      <td>Специалист</td>\n",
       "      <td>СГД-19-1</td>\n",
       "      <td>Горное дело</td>\n",
       "      <td>2023 - 2024</td>\n",
       "      <td>II полугодие</td>\n",
       "      <td>Экономика и менеджмент горного производства</td>\n",
       "      <td>NaN</td>\n",
       "      <td>Хорошо</td>\n",
       "    </tr>\n",
       "    <tr>\n",
       "      <th>1524</th>\n",
       "      <td>4c59d0a09c826a3391721dc49555e2c1</td>\n",
       "      <td>2110542</td>\n",
       "      <td>Академический бакалавр</td>\n",
       "      <td>БПМ-21-2</td>\n",
       "      <td>Прикладная математика</td>\n",
       "      <td>2023 - 2024</td>\n",
       "      <td>II полугодие</td>\n",
       "      <td>Иностранный язык</td>\n",
       "      <td>NaN</td>\n",
       "      <td>Удовлетворительно</td>\n",
       "    </tr>\n",
       "    <tr>\n",
       "      <th>3195</th>\n",
       "      <td>e3deb7b8f8d0b49cc2f56cb17de2cb8c</td>\n",
       "      <td>2315545</td>\n",
       "      <td>Бакалавр</td>\n",
       "      <td>БИВТ-23-7</td>\n",
       "      <td>Информатика и вычислительная техника (ИВТ, ИСТ...</td>\n",
       "      <td>2023 - 2024</td>\n",
       "      <td>II полугодие</td>\n",
       "      <td>Компьютерная и инженерная графика</td>\n",
       "      <td>NaN</td>\n",
       "      <td>Отлично</td>\n",
       "    </tr>\n",
       "    <tr>\n",
       "      <th>3196</th>\n",
       "      <td>e3deb7b8f8d0b49cc2f56cb17de2cb8c</td>\n",
       "      <td>2315545</td>\n",
       "      <td>Бакалавр</td>\n",
       "      <td>БИВТ-23-7</td>\n",
       "      <td>Информатика и вычислительная техника (ИВТ, ИСТ...</td>\n",
       "      <td>2023 - 2024</td>\n",
       "      <td>II полугодие</td>\n",
       "      <td>Математика</td>\n",
       "      <td>NaN</td>\n",
       "      <td>Хорошо</td>\n",
       "    </tr>\n",
       "    <tr>\n",
       "      <th>3199</th>\n",
       "      <td>e3deb7b8f8d0b49cc2f56cb17de2cb8c</td>\n",
       "      <td>2315545</td>\n",
       "      <td>Бакалавр</td>\n",
       "      <td>БИВТ-23-7</td>\n",
       "      <td>Информатика и вычислительная техника (ИВТ, ИСТ...</td>\n",
       "      <td>2023 - 2024</td>\n",
       "      <td>II полугодие</td>\n",
       "      <td>Персональная эффективность</td>\n",
       "      <td>NaN</td>\n",
       "      <td>зачтено</td>\n",
       "    </tr>\n",
       "  </tbody>\n",
       "</table>\n",
       "</div>"
      ],
      "text/plain": [
       "                                  hash       id                   level  \\\n",
       "1400  64a9281296895f40b84a42cd7d6a16d2  2214073              Специалист   \n",
       "1524  4c59d0a09c826a3391721dc49555e2c1  2110542  Академический бакалавр   \n",
       "3195  e3deb7b8f8d0b49cc2f56cb17de2cb8c  2315545                Бакалавр   \n",
       "3196  e3deb7b8f8d0b49cc2f56cb17de2cb8c  2315545                Бакалавр   \n",
       "3199  e3deb7b8f8d0b49cc2f56cb17de2cb8c  2315545                Бакалавр   \n",
       "\n",
       "          group                                         speciality  \\\n",
       "1400   СГД-19-1                                        Горное дело   \n",
       "1524   БПМ-21-2                              Прикладная математика   \n",
       "3195  БИВТ-23-7  Информатика и вычислительная техника (ИВТ, ИСТ...   \n",
       "3196  БИВТ-23-7  Информатика и вычислительная техника (ИВТ, ИСТ...   \n",
       "3199  БИВТ-23-7  Информатика и вычислительная техника (ИВТ, ИСТ...   \n",
       "\n",
       "             year      semester                                      subject  \\\n",
       "1400  2023 - 2024  II полугодие  Экономика и менеджмент горного производства   \n",
       "1524  2023 - 2024  II полугодие                             Иностранный язык   \n",
       "3195  2023 - 2024  II полугодие            Компьютерная и инженерная графика   \n",
       "3196  2023 - 2024  II полугодие                                   Математика   \n",
       "3199  2023 - 2024  II полугодие                   Персональная эффективность   \n",
       "\n",
       "     grade         perfomance  \n",
       "1400   NaN             Хорошо  \n",
       "1524   NaN  Удовлетворительно  \n",
       "3195   NaN            Отлично  \n",
       "3196   NaN             Хорошо  \n",
       "3199   NaN            зачтено  "
      ]
     },
     "execution_count": 22,
     "metadata": {},
     "output_type": "execute_result"
    }
   ],
   "source": [
    "print(f'Количество строчек:                 {df[~(df.perfomance.isna()) & (df.year == \"2023 - 2024\") & (df.semester == \"II полугодие\")].shape[0]}')\n",
    "print(f'Количество строчек с нулевым grade: {df[~(df.perfomance.isna()) & (df.year == \"2023 - 2024\") & (df.semester == \"II полугодие\")].grade.isna().sum()}')\n",
    "print(f'Уникальные значения в perfomance:   {df[~(df.perfomance.isna()) & (df.year == \"2023 - 2024\") & (df.semester == \"II полугодие\")].perfomance.unique()}')\n",
    "\n",
    "df[~(df.perfomance.isna()) & (df.year == \"2023 - 2024\") & (df.semester == \"II полугодие\")].head()"
   ]
  },
  {
   "cell_type": "markdown",
   "id": "2b65f56b-efd6-42e4-a6d7-117aa1b995d6",
   "metadata": {},
   "source": [
    "Вероятно, ситуации, когда в только начавшемся семестре у каких-то студентов уже есть оценки за предмет объясняются тем, что *студенты перевелись из другого университета и у них уже была успеваемость по этому предмету*\n",
    "\n",
    "Можно заметить, что в таком случае успеваемость только положительная.\n",
    "\n",
    "Есть гипотеза, что лучше все же удалить эти строчки перед обучением модели, но пока что пусть будут"
   ]
  },
  {
   "cell_type": "markdown",
   "id": "2c5ef785-7ed7-434e-a60a-4fbedf0441c2",
   "metadata": {},
   "source": [
    "Рассмотрим случаи, когда `year` 2024-2028"
   ]
  },
  {
   "cell_type": "code",
   "execution_count": 23,
   "id": "6e108a4e-bbbc-46e0-a742-bfd89f2c6f29",
   "metadata": {},
   "outputs": [
    {
     "name": "stdout",
     "output_type": "stream",
     "text": [
      "Количество строчек:                      325\n",
      "Количество строчек с нулевым grade:      227\n",
      "Количество строчек с нулевым perfomance: 67\n",
      "Уникальные значения в perfomance:        ['зачтено' 'Удовлетворительно' 'Хорошо' 'Отлично' nan]\n"
     ]
    },
    {
     "data": {
      "text/html": [
       "<div>\n",
       "<style scoped>\n",
       "    .dataframe tbody tr th:only-of-type {\n",
       "        vertical-align: middle;\n",
       "    }\n",
       "\n",
       "    .dataframe tbody tr th {\n",
       "        vertical-align: top;\n",
       "    }\n",
       "\n",
       "    .dataframe thead th {\n",
       "        text-align: right;\n",
       "    }\n",
       "</style>\n",
       "<table border=\"1\" class=\"dataframe\">\n",
       "  <thead>\n",
       "    <tr style=\"text-align: right;\">\n",
       "      <th></th>\n",
       "      <th>hash</th>\n",
       "      <th>id</th>\n",
       "      <th>level</th>\n",
       "      <th>group</th>\n",
       "      <th>speciality</th>\n",
       "      <th>year</th>\n",
       "      <th>semester</th>\n",
       "      <th>subject</th>\n",
       "      <th>grade</th>\n",
       "      <th>perfomance</th>\n",
       "    </tr>\n",
       "  </thead>\n",
       "  <tbody>\n",
       "    <tr>\n",
       "      <th>3202</th>\n",
       "      <td>e3deb7b8f8d0b49cc2f56cb17de2cb8c</td>\n",
       "      <td>2315545</td>\n",
       "      <td>Бакалавр</td>\n",
       "      <td>БИВТ-23-7</td>\n",
       "      <td>Информатика и вычислительная техника (ИВТ, ИСТ...</td>\n",
       "      <td>2024 - 2025</td>\n",
       "      <td>I полугодие</td>\n",
       "      <td>Философия</td>\n",
       "      <td>NaN</td>\n",
       "      <td>зачтено</td>\n",
       "    </tr>\n",
       "    <tr>\n",
       "      <th>3203</th>\n",
       "      <td>e3deb7b8f8d0b49cc2f56cb17de2cb8c</td>\n",
       "      <td>2315545</td>\n",
       "      <td>Бакалавр</td>\n",
       "      <td>БИВТ-23-7</td>\n",
       "      <td>Информатика и вычислительная техника (ИВТ, ИСТ...</td>\n",
       "      <td>2024 - 2025</td>\n",
       "      <td>II полугодие</td>\n",
       "      <td>Безопасность жизнедеятельности</td>\n",
       "      <td>NaN</td>\n",
       "      <td>зачтено</td>\n",
       "    </tr>\n",
       "    <tr>\n",
       "      <th>3204</th>\n",
       "      <td>e3deb7b8f8d0b49cc2f56cb17de2cb8c</td>\n",
       "      <td>2315545</td>\n",
       "      <td>Бакалавр</td>\n",
       "      <td>БИВТ-23-7</td>\n",
       "      <td>Информатика и вычислительная техника (ИВТ, ИСТ...</td>\n",
       "      <td>2024 - 2025</td>\n",
       "      <td>II полугодие</td>\n",
       "      <td>Цифровая экономика и процессное управление пре...</td>\n",
       "      <td>NaN</td>\n",
       "      <td>зачтено</td>\n",
       "    </tr>\n",
       "    <tr>\n",
       "      <th>3945</th>\n",
       "      <td>95e9475faa445fbac38fb41ea9611e9b</td>\n",
       "      <td>2105839</td>\n",
       "      <td>Академический бакалавр</td>\n",
       "      <td>БИВТ-21-16</td>\n",
       "      <td>Информатика и вычислительная техника</td>\n",
       "      <td>2024 - 2025</td>\n",
       "      <td>II полугодие</td>\n",
       "      <td>Философия</td>\n",
       "      <td>NaN</td>\n",
       "      <td>зачтено</td>\n",
       "    </tr>\n",
       "    <tr>\n",
       "      <th>4463</th>\n",
       "      <td>f32399a8744fa5bb51b8f75eb5a29f4a</td>\n",
       "      <td>2112213</td>\n",
       "      <td>Специалист</td>\n",
       "      <td>СГД-21-6з</td>\n",
       "      <td>Горное дело</td>\n",
       "      <td>2024 - 2025</td>\n",
       "      <td>II полугодие</td>\n",
       "      <td>Иностранный язык</td>\n",
       "      <td>NaN</td>\n",
       "      <td>Удовлетворительно</td>\n",
       "    </tr>\n",
       "  </tbody>\n",
       "</table>\n",
       "</div>"
      ],
      "text/plain": [
       "                                  hash       id                   level  \\\n",
       "3202  e3deb7b8f8d0b49cc2f56cb17de2cb8c  2315545                Бакалавр   \n",
       "3203  e3deb7b8f8d0b49cc2f56cb17de2cb8c  2315545                Бакалавр   \n",
       "3204  e3deb7b8f8d0b49cc2f56cb17de2cb8c  2315545                Бакалавр   \n",
       "3945  95e9475faa445fbac38fb41ea9611e9b  2105839  Академический бакалавр   \n",
       "4463  f32399a8744fa5bb51b8f75eb5a29f4a  2112213              Специалист   \n",
       "\n",
       "           group                                         speciality  \\\n",
       "3202   БИВТ-23-7  Информатика и вычислительная техника (ИВТ, ИСТ...   \n",
       "3203   БИВТ-23-7  Информатика и вычислительная техника (ИВТ, ИСТ...   \n",
       "3204   БИВТ-23-7  Информатика и вычислительная техника (ИВТ, ИСТ...   \n",
       "3945  БИВТ-21-16               Информатика и вычислительная техника   \n",
       "4463   СГД-21-6з                                        Горное дело   \n",
       "\n",
       "             year      semester  \\\n",
       "3202  2024 - 2025   I полугодие   \n",
       "3203  2024 - 2025  II полугодие   \n",
       "3204  2024 - 2025  II полугодие   \n",
       "3945  2024 - 2025  II полугодие   \n",
       "4463  2024 - 2025  II полугодие   \n",
       "\n",
       "                                                subject grade  \\\n",
       "3202                                          Философия   NaN   \n",
       "3203                     Безопасность жизнедеятельности   NaN   \n",
       "3204  Цифровая экономика и процессное управление пре...   NaN   \n",
       "3945                                          Философия   NaN   \n",
       "4463                                   Иностранный язык   NaN   \n",
       "\n",
       "             perfomance  \n",
       "3202            зачтено  \n",
       "3203            зачтено  \n",
       "3204            зачтено  \n",
       "3945            зачтено  \n",
       "4463  Удовлетворительно  "
      ]
     },
     "execution_count": 23,
     "metadata": {},
     "output_type": "execute_result"
    }
   ],
   "source": [
    "print(f'Количество строчек:                      {df[df.year.isin([\"2024 - 2025\", \"2025 - 2026\", \"2026 - 2027\", \"2027 - 2028\"])].shape[0]}')\n",
    "print(f'Количество строчек с нулевым grade:      {df[df.year.isin([\"2024 - 2025\", \"2025 - 2026\", \"2026 - 2027\", \"2027 - 2028\"])].grade.isna().sum()}')\n",
    "print(f'Количество строчек с нулевым perfomance: {df[df.year.isin([\"2024 - 2025\", \"2025 - 2026\", \"2026 - 2027\", \"2027 - 2028\"])].perfomance.isna().sum()}')\n",
    "print(f'Уникальные значения в perfomance:        {df[df.year.isin([\"2024 - 2025\", \"2025 - 2026\", \"2026 - 2027\", \"2027 - 2028\"])].perfomance.unique()}')\n",
    "\n",
    "df[df.year.isin([\"2024 - 2025\", \"2025 - 2026\", \"2026 - 2027\", \"2027 - 2028\"])].head()"
   ]
  },
  {
   "cell_type": "markdown",
   "id": "319dfdd5-2661-4249-a633-e82e5ca23a19",
   "metadata": {},
   "source": [
    "Можем заметить, что в 2024 - 2028 годах некоторые студенты так же имеют уже успеваемость по некоторым предметам и скорее всего это так же связано с переводом из другого вуза"
   ]
  },
  {
   "cell_type": "code",
   "execution_count": 24,
   "id": "b7353c23-a7f4-42eb-922e-b1604e92a34b",
   "metadata": {},
   "outputs": [
    {
     "data": {
      "text/html": [
       "<div>\n",
       "<style scoped>\n",
       "    .dataframe tbody tr th:only-of-type {\n",
       "        vertical-align: middle;\n",
       "    }\n",
       "\n",
       "    .dataframe tbody tr th {\n",
       "        vertical-align: top;\n",
       "    }\n",
       "\n",
       "    .dataframe thead th {\n",
       "        text-align: right;\n",
       "    }\n",
       "</style>\n",
       "<table border=\"1\" class=\"dataframe\">\n",
       "  <thead>\n",
       "    <tr style=\"text-align: right;\">\n",
       "      <th></th>\n",
       "      <th>hash</th>\n",
       "      <th>id</th>\n",
       "      <th>level</th>\n",
       "      <th>group</th>\n",
       "      <th>speciality</th>\n",
       "      <th>year</th>\n",
       "      <th>semester</th>\n",
       "      <th>subject</th>\n",
       "      <th>grade</th>\n",
       "      <th>perfomance</th>\n",
       "    </tr>\n",
       "  </thead>\n",
       "  <tbody>\n",
       "    <tr>\n",
       "      <th>6155</th>\n",
       "      <td>f4e26c2bb9bdbbb9240818909d6293e8</td>\n",
       "      <td>1900386</td>\n",
       "      <td>Специалист</td>\n",
       "      <td>СГД-22-1</td>\n",
       "      <td>Горное дело</td>\n",
       "      <td>2024 - 2025</td>\n",
       "      <td>I полугодие</td>\n",
       "      <td>Метрология и стандартизация</td>\n",
       "      <td>не зачтено</td>\n",
       "      <td>NaN</td>\n",
       "    </tr>\n",
       "    <tr>\n",
       "      <th>6156</th>\n",
       "      <td>f4e26c2bb9bdbbb9240818909d6293e8</td>\n",
       "      <td>1900386</td>\n",
       "      <td>Специалист</td>\n",
       "      <td>СГД-22-1</td>\n",
       "      <td>Горное дело</td>\n",
       "      <td>2024 - 2025</td>\n",
       "      <td>I полугодие</td>\n",
       "      <td>Физика горных пород</td>\n",
       "      <td>Неявка</td>\n",
       "      <td>NaN</td>\n",
       "    </tr>\n",
       "  </tbody>\n",
       "</table>\n",
       "</div>"
      ],
      "text/plain": [
       "                                  hash       id       level     group  \\\n",
       "6155  f4e26c2bb9bdbbb9240818909d6293e8  1900386  Специалист  СГД-22-1   \n",
       "6156  f4e26c2bb9bdbbb9240818909d6293e8  1900386  Специалист  СГД-22-1   \n",
       "\n",
       "       speciality         year     semester                      subject  \\\n",
       "6155  Горное дело  2024 - 2025  I полугодие  Метрология и стандартизация   \n",
       "6156  Горное дело  2024 - 2025  I полугодие          Физика горных пород   \n",
       "\n",
       "           grade perfomance  \n",
       "6155  не зачтено        NaN  \n",
       "6156      Неявка        NaN  "
      ]
     },
     "execution_count": 24,
     "metadata": {},
     "output_type": "execute_result"
    }
   ],
   "source": [
    "df[(df.year.isin([\"2024 - 2025\", \"2025 - 2026\", \"2026 - 2027\", \"2027 - 2028\"])) & (df.perfomance.isna())].head(2)"
   ]
  },
  {
   "cell_type": "markdown",
   "id": "c2018b46-3037-4651-99de-aeb0f3314756",
   "metadata": {},
   "source": [
    "Есть ситуация, когда есть оценка за экзамен - `grade` но нет оценки итоговой - `perfomance`. Удалим такие случаи"
   ]
  },
  {
   "cell_type": "code",
   "execution_count": 25,
   "id": "7dfcb4db-ada6-4b38-adab-1face0376491",
   "metadata": {},
   "outputs": [],
   "source": [
    "df = df[~((df.year.isin([\"2024 - 2025\", \"2025 - 2026\", \"2026 - 2027\", \"2027 - 2028\"])) & (df.perfomance.isna()))]"
   ]
  },
  {
   "cell_type": "code",
   "execution_count": 26,
   "id": "b27aa19b-8f03-4a71-9304-08ff5c9e73be",
   "metadata": {},
   "outputs": [
    {
     "data": {
      "text/plain": [
       "hash            0\n",
       "id              0\n",
       "level           0\n",
       "group           0\n",
       "speciality      0\n",
       "year            0\n",
       "semester        0\n",
       "subject         0\n",
       "grade         227\n",
       "perfomance      0\n",
       "dtype: int64"
      ]
     },
     "execution_count": 26,
     "metadata": {},
     "output_type": "execute_result"
    }
   ],
   "source": [
    "df[df.year.isin([\"2024 - 2025\", \"2025 - 2026\", \"2026 - 2027\", \"2027 - 2028\"])].isna().sum()"
   ]
  },
  {
   "cell_type": "code",
   "execution_count": 27,
   "id": "b7a90d41-6beb-4bc3-8260-cb2ae4edc7a5",
   "metadata": {},
   "outputs": [
    {
     "data": {
      "text/plain": [
       "array(['2021 - 2022', '2023 - 2024', '2022 - 2023', '2020 - 2021',\n",
       "       '2019 - 2020', '2018 - 2019', '2017 - 2018'], dtype=object)"
      ]
     },
     "execution_count": 27,
     "metadata": {},
     "output_type": "execute_result"
    }
   ],
   "source": [
    "df[df.perfomance.isna()].year.unique()"
   ]
  },
  {
   "cell_type": "code",
   "execution_count": 28,
   "id": "66fcdf1d-d698-42c9-8979-7c53ac90f6d6",
   "metadata": {},
   "outputs": [
    {
     "name": "stdout",
     "output_type": "stream",
     "text": [
      "Количество строчек: 36728\n"
     ]
    },
    {
     "data": {
      "text/html": [
       "<div>\n",
       "<style scoped>\n",
       "    .dataframe tbody tr th:only-of-type {\n",
       "        vertical-align: middle;\n",
       "    }\n",
       "\n",
       "    .dataframe tbody tr th {\n",
       "        vertical-align: top;\n",
       "    }\n",
       "\n",
       "    .dataframe thead th {\n",
       "        text-align: right;\n",
       "    }\n",
       "</style>\n",
       "<table border=\"1\" class=\"dataframe\">\n",
       "  <thead>\n",
       "    <tr style=\"text-align: right;\">\n",
       "      <th></th>\n",
       "      <th>hash</th>\n",
       "      <th>id</th>\n",
       "      <th>level</th>\n",
       "      <th>group</th>\n",
       "      <th>speciality</th>\n",
       "      <th>year</th>\n",
       "      <th>semester</th>\n",
       "      <th>subject</th>\n",
       "      <th>grade</th>\n",
       "      <th>perfomance</th>\n",
       "    </tr>\n",
       "  </thead>\n",
       "  <tbody>\n",
       "    <tr>\n",
       "      <th>32</th>\n",
       "      <td>67a80fffd8d0294a596eda117d7e393c</td>\n",
       "      <td>2010218</td>\n",
       "      <td>Академический бакалавр</td>\n",
       "      <td>БИВТ-20-4</td>\n",
       "      <td>Информатика и вычислительная техника</td>\n",
       "      <td>2021 - 2022</td>\n",
       "      <td>II полугодие</td>\n",
       "      <td>Учебная практика</td>\n",
       "      <td>Неявка</td>\n",
       "      <td>NaN</td>\n",
       "    </tr>\n",
       "    <tr>\n",
       "      <th>239</th>\n",
       "      <td>d0e1ce9d5a808b346af5d278ddd6b616</td>\n",
       "      <td>2206374</td>\n",
       "      <td>Бакалавр</td>\n",
       "      <td>БМН-22-1</td>\n",
       "      <td>Менеджмент</td>\n",
       "      <td>2022 - 2023</td>\n",
       "      <td>II полугодие</td>\n",
       "      <td>Математика</td>\n",
       "      <td>Неудовлетворительно</td>\n",
       "      <td>NaN</td>\n",
       "    </tr>\n",
       "    <tr>\n",
       "      <th>515</th>\n",
       "      <td>7c59617378b8960a1a5d5de60b86a520</td>\n",
       "      <td>2001343</td>\n",
       "      <td>Академический бакалавр</td>\n",
       "      <td>БНМТ-21-1</td>\n",
       "      <td>Нанотехнологии и микросистемная техника</td>\n",
       "      <td>2022 - 2023</td>\n",
       "      <td>II полугодие</td>\n",
       "      <td>Методы математической физики</td>\n",
       "      <td>Неявка</td>\n",
       "      <td>NaN</td>\n",
       "    </tr>\n",
       "    <tr>\n",
       "      <th>516</th>\n",
       "      <td>7c59617378b8960a1a5d5de60b86a520</td>\n",
       "      <td>2001343</td>\n",
       "      <td>Академический бакалавр</td>\n",
       "      <td>БНМТ-21-1</td>\n",
       "      <td>Нанотехнологии и микросистемная техника</td>\n",
       "      <td>2022 - 2023</td>\n",
       "      <td>II полугодие</td>\n",
       "      <td>Основы квантовой механики и теория упругости</td>\n",
       "      <td>Неявка</td>\n",
       "      <td>NaN</td>\n",
       "    </tr>\n",
       "    <tr>\n",
       "      <th>518</th>\n",
       "      <td>7c59617378b8960a1a5d5de60b86a520</td>\n",
       "      <td>2001343</td>\n",
       "      <td>Академический бакалавр</td>\n",
       "      <td>БНМТ-21-1</td>\n",
       "      <td>Нанотехнологии и микросистемная техника</td>\n",
       "      <td>2022 - 2023</td>\n",
       "      <td>II полугодие</td>\n",
       "      <td>Учебная практика</td>\n",
       "      <td>NaN</td>\n",
       "      <td>NaN</td>\n",
       "    </tr>\n",
       "  </tbody>\n",
       "</table>\n",
       "</div>"
      ],
      "text/plain": [
       "                                 hash       id                   level  \\\n",
       "32   67a80fffd8d0294a596eda117d7e393c  2010218  Академический бакалавр   \n",
       "239  d0e1ce9d5a808b346af5d278ddd6b616  2206374                Бакалавр   \n",
       "515  7c59617378b8960a1a5d5de60b86a520  2001343  Академический бакалавр   \n",
       "516  7c59617378b8960a1a5d5de60b86a520  2001343  Академический бакалавр   \n",
       "518  7c59617378b8960a1a5d5de60b86a520  2001343  Академический бакалавр   \n",
       "\n",
       "         group                               speciality         year  \\\n",
       "32   БИВТ-20-4     Информатика и вычислительная техника  2021 - 2022   \n",
       "239   БМН-22-1                               Менеджмент  2022 - 2023   \n",
       "515  БНМТ-21-1  Нанотехнологии и микросистемная техника  2022 - 2023   \n",
       "516  БНМТ-21-1  Нанотехнологии и микросистемная техника  2022 - 2023   \n",
       "518  БНМТ-21-1  Нанотехнологии и микросистемная техника  2022 - 2023   \n",
       "\n",
       "         semester                                       subject  \\\n",
       "32   II полугодие                              Учебная практика   \n",
       "239  II полугодие                                    Математика   \n",
       "515  II полугодие                  Методы математической физики   \n",
       "516  II полугодие  Основы квантовой механики и теория упругости   \n",
       "518  II полугодие                              Учебная практика   \n",
       "\n",
       "                   grade perfomance  \n",
       "32                Неявка        NaN  \n",
       "239  Неудовлетворительно        NaN  \n",
       "515               Неявка        NaN  \n",
       "516               Неявка        NaN  \n",
       "518                  NaN        NaN  "
      ]
     },
     "execution_count": 28,
     "metadata": {},
     "output_type": "execute_result"
    }
   ],
   "source": [
    "print(\"Количество строчек: \" + str(df[(df.perfomance.isna()) & (~df.year.isin([\"2023 - 2024\", \"2024 - 2025\", \"2025 - 2026\", \"2026 - 2027\", \"2027 - 2028\"]))].shape[0]))\n",
    "\n",
    "df[(df.perfomance.isna()) & (~df.year.isin([\"2023 - 2024\", \"2024 - 2025\", \"2025 - 2026\", \"2026 - 2027\", \"2027 - 2028\"]))].head()"
   ]
  },
  {
   "cell_type": "code",
   "execution_count": 29,
   "id": "3cd88e15-3f28-4a18-b111-0be8d19909e6",
   "metadata": {},
   "outputs": [
    {
     "data": {
      "text/html": [
       "<div>\n",
       "<style scoped>\n",
       "    .dataframe tbody tr th:only-of-type {\n",
       "        vertical-align: middle;\n",
       "    }\n",
       "\n",
       "    .dataframe tbody tr th {\n",
       "        vertical-align: top;\n",
       "    }\n",
       "\n",
       "    .dataframe thead th {\n",
       "        text-align: right;\n",
       "    }\n",
       "</style>\n",
       "<table border=\"1\" class=\"dataframe\">\n",
       "  <thead>\n",
       "    <tr style=\"text-align: right;\">\n",
       "      <th></th>\n",
       "      <th>hash</th>\n",
       "      <th>id</th>\n",
       "      <th>level</th>\n",
       "      <th>group</th>\n",
       "      <th>speciality</th>\n",
       "      <th>year</th>\n",
       "      <th>semester</th>\n",
       "      <th>subject</th>\n",
       "      <th>grade</th>\n",
       "      <th>perfomance</th>\n",
       "    </tr>\n",
       "  </thead>\n",
       "  <tbody>\n",
       "    <tr>\n",
       "      <th>32</th>\n",
       "      <td>67a80fffd8d0294a596eda117d7e393c</td>\n",
       "      <td>2010218</td>\n",
       "      <td>Академический бакалавр</td>\n",
       "      <td>БИВТ-20-4</td>\n",
       "      <td>Информатика и вычислительная техника</td>\n",
       "      <td>2021 - 2022</td>\n",
       "      <td>II полугодие</td>\n",
       "      <td>Учебная практика</td>\n",
       "      <td>Неявка</td>\n",
       "      <td>NaN</td>\n",
       "    </tr>\n",
       "    <tr>\n",
       "      <th>239</th>\n",
       "      <td>d0e1ce9d5a808b346af5d278ddd6b616</td>\n",
       "      <td>2206374</td>\n",
       "      <td>Бакалавр</td>\n",
       "      <td>БМН-22-1</td>\n",
       "      <td>Менеджмент</td>\n",
       "      <td>2022 - 2023</td>\n",
       "      <td>II полугодие</td>\n",
       "      <td>Математика</td>\n",
       "      <td>Неудовлетворительно</td>\n",
       "      <td>NaN</td>\n",
       "    </tr>\n",
       "  </tbody>\n",
       "</table>\n",
       "</div>"
      ],
      "text/plain": [
       "                                 hash       id                   level  \\\n",
       "32   67a80fffd8d0294a596eda117d7e393c  2010218  Академический бакалавр   \n",
       "239  d0e1ce9d5a808b346af5d278ddd6b616  2206374                Бакалавр   \n",
       "\n",
       "         group                            speciality         year  \\\n",
       "32   БИВТ-20-4  Информатика и вычислительная техника  2021 - 2022   \n",
       "239   БМН-22-1                            Менеджмент  2022 - 2023   \n",
       "\n",
       "         semester           subject                grade perfomance  \n",
       "32   II полугодие  Учебная практика               Неявка        NaN  \n",
       "239  II полугодие        Математика  Неудовлетворительно        NaN  "
      ]
     },
     "execution_count": 29,
     "metadata": {},
     "output_type": "execute_result"
    }
   ],
   "source": [
    "df[(df.perfomance.isna()) & (~df.year.isin([\"2023 - 2024\", \"2024 - 2025\", \"2025 - 2026\", \"2026 - 2027\", \"2027 - 2028\"]))].head(2)"
   ]
  },
  {
   "cell_type": "markdown",
   "id": "6436faf7-dea4-4696-adb0-82d6dccdfc60",
   "metadata": {},
   "source": [
    "Как я уже раньше упоминал, когда студент в `perfomance` получает фэйл, то дальше у него идут NaN. Поэтому данные пропущенны\n",
    "\n",
    "Либо же это какие-то ошибки в данных\n",
    "\n",
    "Удалим эти значения"
   ]
  },
  {
   "cell_type": "code",
   "execution_count": 30,
   "id": "3f7bde83-e6d7-4c2b-96ee-ed8e6abb1e39",
   "metadata": {},
   "outputs": [],
   "source": [
    "df = df[~((df.perfomance.isna()) & (~df.year.isin([\"2023 - 2024\", \"2024 - 2025\", \"2025 - 2026\", \"2026 - 2027\", \"2027 - 2028\"])))]"
   ]
  },
  {
   "cell_type": "code",
   "execution_count": 31,
   "id": "816df5bc-6c1a-4025-bb17-ef2d5dafcecf",
   "metadata": {},
   "outputs": [
    {
     "data": {
      "text/plain": [
       "66220"
      ]
     },
     "execution_count": 31,
     "metadata": {},
     "output_type": "execute_result"
    }
   ],
   "source": [
    "df.perfomance.isna().sum()"
   ]
  },
  {
   "cell_type": "markdown",
   "id": "c2aecf77-987a-42d2-84af-9e2288b4c165",
   "metadata": {},
   "source": [
    "Но у нас все еще остались пропуски в данных в колонке с оценками\n",
    "\n",
    "Посмотрим в какой временной промежуток это происходит:"
   ]
  },
  {
   "cell_type": "code",
   "execution_count": 32,
   "id": "dc1082ab-d54d-44d1-ba51-99955795ca28",
   "metadata": {},
   "outputs": [
    {
     "name": "stdout",
     "output_type": "stream",
     "text": [
      "['2023 - 2024']\n",
      "['I полугодие']\n"
     ]
    }
   ],
   "source": [
    "print(df[df.perfomance.isna()].year.unique())\n",
    "print(df[df.perfomance.isna()].semester.unique())"
   ]
  },
  {
   "cell_type": "code",
   "execution_count": 33,
   "id": "527a899c-b195-43f8-97c3-32d7a9449d94",
   "metadata": {},
   "outputs": [
    {
     "data": {
      "text/html": [
       "<div>\n",
       "<style scoped>\n",
       "    .dataframe tbody tr th:only-of-type {\n",
       "        vertical-align: middle;\n",
       "    }\n",
       "\n",
       "    .dataframe tbody tr th {\n",
       "        vertical-align: top;\n",
       "    }\n",
       "\n",
       "    .dataframe thead th {\n",
       "        text-align: right;\n",
       "    }\n",
       "</style>\n",
       "<table border=\"1\" class=\"dataframe\">\n",
       "  <thead>\n",
       "    <tr style=\"text-align: right;\">\n",
       "      <th></th>\n",
       "      <th>hash</th>\n",
       "      <th>id</th>\n",
       "      <th>level</th>\n",
       "      <th>group</th>\n",
       "      <th>speciality</th>\n",
       "      <th>year</th>\n",
       "      <th>semester</th>\n",
       "      <th>subject</th>\n",
       "      <th>grade</th>\n",
       "      <th>perfomance</th>\n",
       "    </tr>\n",
       "  </thead>\n",
       "  <tbody>\n",
       "    <tr>\n",
       "      <th>58</th>\n",
       "      <td>67a80fffd8d0294a596eda117d7e393c</td>\n",
       "      <td>2010218</td>\n",
       "      <td>Академический бакалавр</td>\n",
       "      <td>БИВТ-20-4</td>\n",
       "      <td>Информатика и вычислительная техника</td>\n",
       "      <td>2023 - 2024</td>\n",
       "      <td>I полугодие</td>\n",
       "      <td>Системы управления производством</td>\n",
       "      <td>зачтено</td>\n",
       "      <td>зачтено</td>\n",
       "    </tr>\n",
       "    <tr>\n",
       "      <th>68</th>\n",
       "      <td>953270dae24692e16c36eb91b1f2be7f</td>\n",
       "      <td>2311813</td>\n",
       "      <td>Бакалавр</td>\n",
       "      <td>БИВТ-23-9</td>\n",
       "      <td>Информатика и вычислительная техника (ИВТ, ИСТ...</td>\n",
       "      <td>2023 - 2024</td>\n",
       "      <td>I полугодие</td>\n",
       "      <td>Введение в специальность</td>\n",
       "      <td>зачтено</td>\n",
       "      <td>зачтено</td>\n",
       "    </tr>\n",
       "    <tr>\n",
       "      <th>84</th>\n",
       "      <td>caad24c3877784fcfc2a76de142333aa</td>\n",
       "      <td>2305400</td>\n",
       "      <td>Магистр</td>\n",
       "      <td>МПИ-23-1-1</td>\n",
       "      <td>Прикладная информатика</td>\n",
       "      <td>2023 - 2024</td>\n",
       "      <td>I полугодие</td>\n",
       "      <td>Введение в искусственные нейронные сети</td>\n",
       "      <td>Отлично</td>\n",
       "      <td>Отлично</td>\n",
       "    </tr>\n",
       "  </tbody>\n",
       "</table>\n",
       "</div>"
      ],
      "text/plain": [
       "                                hash       id                   level  \\\n",
       "58  67a80fffd8d0294a596eda117d7e393c  2010218  Академический бакалавр   \n",
       "68  953270dae24692e16c36eb91b1f2be7f  2311813                Бакалавр   \n",
       "84  caad24c3877784fcfc2a76de142333aa  2305400                 Магистр   \n",
       "\n",
       "         group                                         speciality  \\\n",
       "58   БИВТ-20-4               Информатика и вычислительная техника   \n",
       "68   БИВТ-23-9  Информатика и вычислительная техника (ИВТ, ИСТ...   \n",
       "84  МПИ-23-1-1                             Прикладная информатика   \n",
       "\n",
       "           year     semester                                  subject  \\\n",
       "58  2023 - 2024  I полугодие         Системы управления производством   \n",
       "68  2023 - 2024  I полугодие                 Введение в специальность   \n",
       "84  2023 - 2024  I полугодие  Введение в искусственные нейронные сети   \n",
       "\n",
       "      grade perfomance  \n",
       "58  зачтено    зачтено  \n",
       "68  зачтено    зачтено  \n",
       "84  Отлично    Отлично  "
      ]
     },
     "execution_count": 33,
     "metadata": {},
     "output_type": "execute_result"
    }
   ],
   "source": [
    "df[~(df.perfomance.isna()) & (df.year == \"2023 - 2024\")].head(3)"
   ]
  },
  {
   "cell_type": "code",
   "execution_count": 34,
   "id": "9b9e08fd-c5cd-4a4f-8256-4892ddad9313",
   "metadata": {},
   "outputs": [
    {
     "data": {
      "text/html": [
       "<div>\n",
       "<style scoped>\n",
       "    .dataframe tbody tr th:only-of-type {\n",
       "        vertical-align: middle;\n",
       "    }\n",
       "\n",
       "    .dataframe tbody tr th {\n",
       "        vertical-align: top;\n",
       "    }\n",
       "\n",
       "    .dataframe thead th {\n",
       "        text-align: right;\n",
       "    }\n",
       "</style>\n",
       "<table border=\"1\" class=\"dataframe\">\n",
       "  <thead>\n",
       "    <tr style=\"text-align: right;\">\n",
       "      <th></th>\n",
       "      <th>hash</th>\n",
       "      <th>id</th>\n",
       "      <th>level</th>\n",
       "      <th>group</th>\n",
       "      <th>speciality</th>\n",
       "      <th>year</th>\n",
       "      <th>semester</th>\n",
       "      <th>subject</th>\n",
       "      <th>grade</th>\n",
       "      <th>perfomance</th>\n",
       "    </tr>\n",
       "  </thead>\n",
       "  <tbody>\n",
       "    <tr>\n",
       "      <th>51</th>\n",
       "      <td>67a80fffd8d0294a596eda117d7e393c</td>\n",
       "      <td>2010218</td>\n",
       "      <td>Академический бакалавр</td>\n",
       "      <td>БИВТ-20-4</td>\n",
       "      <td>Информатика и вычислительная техника</td>\n",
       "      <td>2023 - 2024</td>\n",
       "      <td>I полугодие</td>\n",
       "      <td>CASE-технологии в управлении коллективом разра...</td>\n",
       "      <td>NaN</td>\n",
       "      <td>NaN</td>\n",
       "    </tr>\n",
       "    <tr>\n",
       "      <th>52</th>\n",
       "      <td>67a80fffd8d0294a596eda117d7e393c</td>\n",
       "      <td>2010218</td>\n",
       "      <td>Академический бакалавр</td>\n",
       "      <td>БИВТ-20-4</td>\n",
       "      <td>Информатика и вычислительная техника</td>\n",
       "      <td>2023 - 2024</td>\n",
       "      <td>I полугодие</td>\n",
       "      <td>Иностранный язык</td>\n",
       "      <td>NaN</td>\n",
       "      <td>NaN</td>\n",
       "    </tr>\n",
       "    <tr>\n",
       "      <th>53</th>\n",
       "      <td>67a80fffd8d0294a596eda117d7e393c</td>\n",
       "      <td>2010218</td>\n",
       "      <td>Академический бакалавр</td>\n",
       "      <td>БИВТ-20-4</td>\n",
       "      <td>Информатика и вычислительная техника</td>\n",
       "      <td>2023 - 2024</td>\n",
       "      <td>I полугодие</td>\n",
       "      <td>Интеллектуальный анализ данных</td>\n",
       "      <td>NaN</td>\n",
       "      <td>NaN</td>\n",
       "    </tr>\n",
       "  </tbody>\n",
       "</table>\n",
       "</div>"
      ],
      "text/plain": [
       "                                hash       id                   level  \\\n",
       "51  67a80fffd8d0294a596eda117d7e393c  2010218  Академический бакалавр   \n",
       "52  67a80fffd8d0294a596eda117d7e393c  2010218  Академический бакалавр   \n",
       "53  67a80fffd8d0294a596eda117d7e393c  2010218  Академический бакалавр   \n",
       "\n",
       "        group                            speciality         year     semester  \\\n",
       "51  БИВТ-20-4  Информатика и вычислительная техника  2023 - 2024  I полугодие   \n",
       "52  БИВТ-20-4  Информатика и вычислительная техника  2023 - 2024  I полугодие   \n",
       "53  БИВТ-20-4  Информатика и вычислительная техника  2023 - 2024  I полугодие   \n",
       "\n",
       "                                              subject grade perfomance  \n",
       "51  CASE-технологии в управлении коллективом разра...   NaN        NaN  \n",
       "52                                   Иностранный язык   NaN        NaN  \n",
       "53                     Интеллектуальный анализ данных   NaN        NaN  "
      ]
     },
     "execution_count": 34,
     "metadata": {},
     "output_type": "execute_result"
    }
   ],
   "source": [
    "df[(df.perfomance.isna()) & (df.year == \"2023 - 2024\")].head(3)"
   ]
  },
  {
   "cell_type": "markdown",
   "id": "8f3f7dd8-2058-4c1f-8425-2ddfd3499d18",
   "metadata": {},
   "source": [
    "Есть гипотеза, что на момент, когда были выгружены данные, информация за 1 семестр 2023-2024 года по некоторым предметам еще не была получена\n",
    "\n",
    "Например можем видеть студента с `id` = 2010218: по какому-то предмету у него уже стоит зачет, а по каким-то другим не стоит оценка\n",
    "\n",
    "Удалим данные, где пропущен `perfomance`"
   ]
  },
  {
   "cell_type": "code",
   "execution_count": 35,
   "id": "80b3acea-f097-4d2b-9628-9d960439202b",
   "metadata": {},
   "outputs": [],
   "source": [
    "df = df[~df.perfomance.isna()]"
   ]
  },
  {
   "cell_type": "code",
   "execution_count": 36,
   "id": "d2a9da85-e1af-4870-bece-3dc97764c7b6",
   "metadata": {},
   "outputs": [
    {
     "data": {
      "text/plain": [
       "hash              0\n",
       "id                0\n",
       "level             0\n",
       "group             0\n",
       "speciality        0\n",
       "year              0\n",
       "semester          0\n",
       "subject           0\n",
       "grade         15086\n",
       "perfomance        0\n",
       "dtype: int64"
      ]
     },
     "execution_count": 36,
     "metadata": {},
     "output_type": "execute_result"
    }
   ],
   "source": [
    "df.isna().sum()"
   ]
  },
  {
   "cell_type": "markdown",
   "id": "fadd8658-ea14-4eed-bc3d-93432229e82d",
   "metadata": {},
   "source": [
    "Таким образом, мы избавились от пропусков в `perfomance`. \n",
    "\n",
    "В `grade` же остались еще пропущенные значения, они возникают у переводников, у которых уже есть оценка по предмету в другом университете, и она просто переносится в `perfomance`, а никакой экзамен или зачем они не сдают."
   ]
  },
  {
   "cell_type": "markdown",
   "id": "d000be1f-46cd-4db9-9a8a-f49c25c2ca97",
   "metadata": {},
   "source": [
    "## Target"
   ]
  },
  {
   "cell_type": "markdown",
   "id": "8ba9763f-2296-4cca-83a2-d21612e80b25",
   "metadata": {},
   "source": [
    "Создадим колонку с таргетом"
   ]
  },
  {
   "cell_type": "code",
   "execution_count": 37,
   "id": "36f73477-0c2d-42ea-9241-9cb8bd146332",
   "metadata": {},
   "outputs": [
    {
     "data": {
      "text/plain": [
       "0         0\n",
       "1         0\n",
       "2         0\n",
       "3         0\n",
       "4         0\n",
       "         ..\n",
       "375975    0\n",
       "375976    0\n",
       "375979    0\n",
       "375993    0\n",
       "375997    0\n",
       "Name: perfomance, Length: 196046, dtype: int64"
      ]
     },
     "execution_count": 37,
     "metadata": {},
     "output_type": "execute_result"
    }
   ],
   "source": [
    "df.perfomance.apply(lambda x: 1 if x in [\"Неудовлетворительно\", \"Неявка\", \"не зачтено\"] else 0)"
   ]
  },
  {
   "cell_type": "code",
   "execution_count": 38,
   "id": "3273bf06-8824-4c33-8730-06ce9eb8126c",
   "metadata": {},
   "outputs": [],
   "source": [
    "df.loc[:, \"dismissed\"] = df.perfomance.apply(lambda x: 1 if x in [\"Неудовлетворительно\", \"Неявка\", \"не зачтено\"] else 0)\n",
    "# df.loc[:, \"dismissed\"] = df.perfomance.apply(lambda x: 1 if x in [\"Неудовлетворительно\", \"Неявка\"] else 0)"
   ]
  },
  {
   "cell_type": "code",
   "execution_count": 39,
   "id": "e36c872e-2e4f-465c-a0e6-a99ef782b5a9",
   "metadata": {},
   "outputs": [
    {
     "data": {
      "image/png": "[encoded data removed]",
      "text/plain": [
       "<Figure size 640x480 with 1 Axes>"
      ]
     },
     "metadata": {},
     "output_type": "display_data"
    }
   ],
   "source": [
    "sns.barplot((df.groupby(\"id\").dismissed.sum() >= 1).astype(\"int\").value_counts(), color=\"orange\")\n",
    "\n",
    "plt.title(\"Распределение целевой переменной\")\n",
    "plt.xlabel(\"Отчислен\")\n",
    "\n",
    "plt.show()"
   ]
  },
  {
   "cell_type": "markdown",
   "id": "4251a90e-cc85-40a1-85f1-9cd6a08a8398",
   "metadata": {},
   "source": [
    "Посчитаем группы, в которых чаще всего отчисляют"
   ]
  },
  {
   "cell_type": "code",
   "execution_count": 40,
   "id": "fc147309-f040-48e5-89e6-770fa6eed5c1",
   "metadata": {},
   "outputs": [
    {
     "data": {
      "text/plain": [
       "group        dismissed\n",
       "МИСТ-23-3-2  1            24\n",
       "МИСТ-23-3-3  1            23\n",
       "СГД-20-1     1            23\n",
       "БИВТ-21-1    1            21\n",
       "БНМТ-21-1    1            20\n",
       "                          ..\n",
       "БЭК-23-4     1             1\n",
       "БЭК-23-5     1             1\n",
       "БЭК-23-6     1             1\n",
       "БИВТ-23-16   1             1\n",
       "МЛГ-23-3     1             1\n",
       "Name: id, Length: 331, dtype: int64"
      ]
     },
     "execution_count": 40,
     "metadata": {},
     "output_type": "execute_result"
    }
   ],
   "source": [
    "df[df.dismissed == 1].groupby([\"group\", \"dismissed\"]).id.nunique().sort_values(ascending=False)"
   ]
  },
  {
   "cell_type": "markdown",
   "id": "d208be86-dd35-42b7-a2a8-c151510e03f8",
   "metadata": {},
   "source": [
    "Рассмотрим группу **\"МИСТ-23-3-2\"**\n",
    "\n",
    "Посчитаем количество учеников в группе"
   ]
  },
  {
   "cell_type": "code",
   "execution_count": 41,
   "id": "b5d96e68-4f7f-4dd1-8c61-dbbdc29168e1",
   "metadata": {},
   "outputs": [
    {
     "data": {
      "text/plain": [
       "26"
      ]
     },
     "execution_count": 41,
     "metadata": {},
     "output_type": "execute_result"
    }
   ],
   "source": [
    "df[df.group == \"МИСТ-23-3-2\"].id.nunique()"
   ]
  },
  {
   "cell_type": "markdown",
   "id": "19c6c9f7-f034-4d0e-93ca-94446cbb7966",
   "metadata": {},
   "source": [
    "Получается, что отчислили 24/26 студентов, что звучит очень нереалистично"
   ]
  },
  {
   "cell_type": "code",
   "execution_count": 42,
   "id": "1cf349a6-9dfe-4a5a-abaa-9b527d35ac25",
   "metadata": {},
   "outputs": [
    {
     "data": {
      "text/html": [
       "<div>\n",
       "<style scoped>\n",
       "    .dataframe tbody tr th:only-of-type {\n",
       "        vertical-align: middle;\n",
       "    }\n",
       "\n",
       "    .dataframe tbody tr th {\n",
       "        vertical-align: top;\n",
       "    }\n",
       "\n",
       "    .dataframe thead th {\n",
       "        text-align: right;\n",
       "    }\n",
       "</style>\n",
       "<table border=\"1\" class=\"dataframe\">\n",
       "  <thead>\n",
       "    <tr style=\"text-align: right;\">\n",
       "      <th></th>\n",
       "      <th>hash</th>\n",
       "      <th>id</th>\n",
       "      <th>level</th>\n",
       "      <th>group</th>\n",
       "      <th>speciality</th>\n",
       "      <th>year</th>\n",
       "      <th>semester</th>\n",
       "      <th>subject</th>\n",
       "      <th>grade</th>\n",
       "      <th>perfomance</th>\n",
       "      <th>dismissed</th>\n",
       "    </tr>\n",
       "  </thead>\n",
       "  <tbody>\n",
       "    <tr>\n",
       "      <th>110267</th>\n",
       "      <td>b4daa46b300db35adf06510ce942b237</td>\n",
       "      <td>2311329</td>\n",
       "      <td>Магистр</td>\n",
       "      <td>МИСТ-23-3-2</td>\n",
       "      <td>Информационные системы и технологии</td>\n",
       "      <td>2023 - 2024</td>\n",
       "      <td>I полугодие</td>\n",
       "      <td>Frontend разработка</td>\n",
       "      <td>не зачтено</td>\n",
       "      <td>не зачтено</td>\n",
       "      <td>1</td>\n",
       "    </tr>\n",
       "    <tr>\n",
       "      <th>110272</th>\n",
       "      <td>b4daa46b300db35adf06510ce942b237</td>\n",
       "      <td>2311329</td>\n",
       "      <td>Магистр</td>\n",
       "      <td>МИСТ-23-3-2</td>\n",
       "      <td>Информационные системы и технологии</td>\n",
       "      <td>2023 - 2024</td>\n",
       "      <td>I полугодие</td>\n",
       "      <td>Основы теории и методологии дизайна</td>\n",
       "      <td>Отлично</td>\n",
       "      <td>Отлично</td>\n",
       "      <td>0</td>\n",
       "    </tr>\n",
       "    <tr>\n",
       "      <th>113327</th>\n",
       "      <td>717d0d254e1d7c908edcd8f336b2288b</td>\n",
       "      <td>2304449</td>\n",
       "      <td>Магистр</td>\n",
       "      <td>МИСТ-23-3-2</td>\n",
       "      <td>Информационные системы и технологии</td>\n",
       "      <td>2023 - 2024</td>\n",
       "      <td>I полугодие</td>\n",
       "      <td>Frontend разработка</td>\n",
       "      <td>не зачтено</td>\n",
       "      <td>не зачтено</td>\n",
       "      <td>1</td>\n",
       "    </tr>\n",
       "    <tr>\n",
       "      <th>113332</th>\n",
       "      <td>717d0d254e1d7c908edcd8f336b2288b</td>\n",
       "      <td>2304449</td>\n",
       "      <td>Магистр</td>\n",
       "      <td>МИСТ-23-3-2</td>\n",
       "      <td>Информационные системы и технологии</td>\n",
       "      <td>2023 - 2024</td>\n",
       "      <td>I полугодие</td>\n",
       "      <td>Основы теории и методологии дизайна</td>\n",
       "      <td>Неявка</td>\n",
       "      <td>Неявка</td>\n",
       "      <td>1</td>\n",
       "    </tr>\n",
       "    <tr>\n",
       "      <th>121061</th>\n",
       "      <td>434e61b82ddbc339bb4cb53f9d35bbc8</td>\n",
       "      <td>2313734</td>\n",
       "      <td>Магистр</td>\n",
       "      <td>МИСТ-23-3-2</td>\n",
       "      <td>Информационные системы и технологии</td>\n",
       "      <td>2023 - 2024</td>\n",
       "      <td>I полугодие</td>\n",
       "      <td>Frontend разработка</td>\n",
       "      <td>не зачтено</td>\n",
       "      <td>не зачтено</td>\n",
       "      <td>1</td>\n",
       "    </tr>\n",
       "  </tbody>\n",
       "</table>\n",
       "</div>"
      ],
      "text/plain": [
       "                                    hash       id    level        group  \\\n",
       "110267  b4daa46b300db35adf06510ce942b237  2311329  Магистр  МИСТ-23-3-2   \n",
       "110272  b4daa46b300db35adf06510ce942b237  2311329  Магистр  МИСТ-23-3-2   \n",
       "113327  717d0d254e1d7c908edcd8f336b2288b  2304449  Магистр  МИСТ-23-3-2   \n",
       "113332  717d0d254e1d7c908edcd8f336b2288b  2304449  Магистр  МИСТ-23-3-2   \n",
       "121061  434e61b82ddbc339bb4cb53f9d35bbc8  2313734  Магистр  МИСТ-23-3-2   \n",
       "\n",
       "                                 speciality         year     semester  \\\n",
       "110267  Информационные системы и технологии  2023 - 2024  I полугодие   \n",
       "110272  Информационные системы и технологии  2023 - 2024  I полугодие   \n",
       "113327  Информационные системы и технологии  2023 - 2024  I полугодие   \n",
       "113332  Информационные системы и технологии  2023 - 2024  I полугодие   \n",
       "121061  Информационные системы и технологии  2023 - 2024  I полугодие   \n",
       "\n",
       "                                    subject       grade  perfomance  dismissed  \n",
       "110267                  Frontend разработка  не зачтено  не зачтено          1  \n",
       "110272  Основы теории и методологии дизайна     Отлично     Отлично          0  \n",
       "113327                  Frontend разработка  не зачтено  не зачтено          1  \n",
       "113332  Основы теории и методологии дизайна      Неявка      Неявка          1  \n",
       "121061                  Frontend разработка  не зачтено  не зачтено          1  "
      ]
     },
     "execution_count": 42,
     "metadata": {},
     "output_type": "execute_result"
    }
   ],
   "source": [
    "df[df.group == \"МИСТ-23-3-2\"].head()"
   ]
  },
  {
   "cell_type": "markdown",
   "id": "7e388517-e9ef-4bd9-8b33-b468d7db43fb",
   "metadata": {},
   "source": [
    "Можно заметить, что присутствуют не зачеты в `perfomance` у большого количества человек. Трудно понять с чем это связано.\n",
    "\n",
    "**Думаю, что лучше пока что использовать критерий, что если в `perfomance` = \"Неудовлетворительно\" => студент отчислен**"
   ]
  },
  {
   "cell_type": "code",
   "execution_count": 43,
   "id": "34122651-febb-47a1-9d11-f2a643e042cc",
   "metadata": {},
   "outputs": [],
   "source": [
    "df.loc[:, \"dismissed\"] = df.perfomance.apply(lambda x: 1 if x == \"Неудовлетворительно\" else 0)"
   ]
  },
  {
   "cell_type": "code",
   "execution_count": 44,
   "id": "d1ff2f6d-2d2b-4c21-ae03-60ab0b1cc4d2",
   "metadata": {},
   "outputs": [
    {
     "data": {
      "text/plain": [
       "group      dismissed\n",
       "СГД-20-1   1            16\n",
       "БПИ-21-3   1            15\n",
       "БМН-20-3   1            15\n",
       "БПИ-20-2   1            13\n",
       "БПИ-20-1   1            13\n",
       "                        ..\n",
       "БЛГ-20-6   1             1\n",
       "БЛГ-20-16  1             1\n",
       "МПИ-22-3   1             1\n",
       "БЛГ-22-1   1             1\n",
       "БПИ-22-7   1             1\n",
       "Name: id, Length: 202, dtype: int64"
      ]
     },
     "execution_count": 44,
     "metadata": {},
     "output_type": "execute_result"
    }
   ],
   "source": [
    "df[df.dismissed == 1].groupby([\"group\", \"dismissed\"]).id.nunique().sort_values(ascending=False)"
   ]
  },
  {
   "cell_type": "code",
   "execution_count": 45,
   "id": "72be691d-331b-4117-8083-f63cc9848097",
   "metadata": {},
   "outputs": [
    {
     "data": {
      "text/plain": [
       "31"
      ]
     },
     "execution_count": 45,
     "metadata": {},
     "output_type": "execute_result"
    }
   ],
   "source": [
    "df[df.group == \"СГД-20-1\"].id.nunique()"
   ]
  },
  {
   "cell_type": "markdown",
   "id": "43bc6a55-fa58-4298-9886-9ceafde8683f",
   "metadata": {},
   "source": [
    "Теперь ситуация получше. Самое большое - 16/31 студентов было отчислено к 4-ому курсу \n",
    "\n",
    "Посмотрим распределение таргета"
   ]
  },
  {
   "cell_type": "code",
   "execution_count": 46,
   "id": "13e9e859-e324-44ab-8722-ee6108f79d97",
   "metadata": {},
   "outputs": [
    {
     "data": {
      "image/png": "[encoded data removed]",
      "text/plain": [
       "<Figure size 640x480 with 1 Axes>"
      ]
     },
     "metadata": {},
     "output_type": "display_data"
    }
   ],
   "source": [
    "sns.barplot((df.groupby(\"id\").dismissed.sum() >= 1).astype(\"int\").value_counts(), color=\"orange\")\n",
    "\n",
    "plt.title(\"Распределение целевой переменной\")\n",
    "plt.xlabel(\"Отчислен\")\n",
    "\n",
    "plt.show()"
   ]
  },
  {
   "cell_type": "code",
   "execution_count": 47,
   "id": "8093b12e-59ad-41d0-ae7b-e3d67a11917f",
   "metadata": {},
   "outputs": [
    {
     "name": "stdout",
     "output_type": "stream",
     "text": [
      "Получается, что каждый 9-ий студент отчислен\n"
     ]
    }
   ],
   "source": [
    "dismissed = df[df.dismissed == 1].id.nunique()\n",
    "students = df[df.dismissed == 0].id.nunique()\n",
    "\n",
    "print(f'Получается, что каждый {round(students / dismissed)}-ий студент отчислен')"
   ]
  },
  {
   "cell_type": "markdown",
   "id": "b30fdc7e-15c6-4b87-8bd0-95d8eecb3312",
   "metadata": {},
   "source": [
    "Преобразуем колонки с оценками в числовые значения"
   ]
  },
  {
   "cell_type": "code",
   "execution_count": 48,
   "id": "d5493b91-0972-4b06-9fdb-40200aa32738",
   "metadata": {},
   "outputs": [],
   "source": [
    "grades_mapping = {\n",
    "    'зачтено': 6,\n",
    "    'Отлично': 5,\n",
    "    'Хорошо': 4,\n",
    "    'Удовлетворительно': 3,\n",
    "    'Неудовлетворительно': 2,\n",
    "    'не зачтено': 0,\n",
    "    'Неявка': -1,\n",
    "    'Не допущен': -2,\n",
    "    'Неявка по ув.причине': -3,\n",
    "}\n",
    "\n",
    "df[\"grade\"] = df.grade.map(grades_mapping)\n",
    "df[\"perfomance\"] = df.perfomance.map(grades_mapping)"
   ]
  },
  {
   "cell_type": "code",
   "execution_count": 49,
   "id": "84f17f6f-2f83-4be9-bf75-bf56fd5d8d19",
   "metadata": {},
   "outputs": [
    {
     "data": {
      "text/html": [
       "<div>\n",
       "<style scoped>\n",
       "    .dataframe tbody tr th:only-of-type {\n",
       "        vertical-align: middle;\n",
       "    }\n",
       "\n",
       "    .dataframe tbody tr th {\n",
       "        vertical-align: top;\n",
       "    }\n",
       "\n",
       "    .dataframe thead th {\n",
       "        text-align: right;\n",
       "    }\n",
       "</style>\n",
       "<table border=\"1\" class=\"dataframe\">\n",
       "  <thead>\n",
       "    <tr style=\"text-align: right;\">\n",
       "      <th></th>\n",
       "      <th>hash</th>\n",
       "      <th>id</th>\n",
       "      <th>level</th>\n",
       "      <th>group</th>\n",
       "      <th>speciality</th>\n",
       "      <th>year</th>\n",
       "      <th>semester</th>\n",
       "      <th>subject</th>\n",
       "      <th>grade</th>\n",
       "      <th>perfomance</th>\n",
       "      <th>dismissed</th>\n",
       "    </tr>\n",
       "  </thead>\n",
       "  <tbody>\n",
       "    <tr>\n",
       "      <th>0</th>\n",
       "      <td>67a80fffd8d0294a596eda117d7e393c</td>\n",
       "      <td>2010218</td>\n",
       "      <td>Академический бакалавр</td>\n",
       "      <td>БИВТ-20-4</td>\n",
       "      <td>Информатика и вычислительная техника</td>\n",
       "      <td>2020 - 2021</td>\n",
       "      <td>I полугодие</td>\n",
       "      <td>Инженерная компьютерная графика</td>\n",
       "      <td>4.0</td>\n",
       "      <td>4</td>\n",
       "      <td>0</td>\n",
       "    </tr>\n",
       "    <tr>\n",
       "      <th>1</th>\n",
       "      <td>67a80fffd8d0294a596eda117d7e393c</td>\n",
       "      <td>2010218</td>\n",
       "      <td>Академический бакалавр</td>\n",
       "      <td>БИВТ-20-4</td>\n",
       "      <td>Информатика и вычислительная техника</td>\n",
       "      <td>2020 - 2021</td>\n",
       "      <td>I полугодие</td>\n",
       "      <td>Иностранный язык</td>\n",
       "      <td>3.0</td>\n",
       "      <td>3</td>\n",
       "      <td>0</td>\n",
       "    </tr>\n",
       "  </tbody>\n",
       "</table>\n",
       "</div>"
      ],
      "text/plain": [
       "                               hash       id                   level  \\\n",
       "0  67a80fffd8d0294a596eda117d7e393c  2010218  Академический бакалавр   \n",
       "1  67a80fffd8d0294a596eda117d7e393c  2010218  Академический бакалавр   \n",
       "\n",
       "       group                            speciality         year     semester  \\\n",
       "0  БИВТ-20-4  Информатика и вычислительная техника  2020 - 2021  I полугодие   \n",
       "1  БИВТ-20-4  Информатика и вычислительная техника  2020 - 2021  I полугодие   \n",
       "\n",
       "                           subject  grade  perfomance  dismissed  \n",
       "0  Инженерная компьютерная графика    4.0           4          0  \n",
       "1                 Иностранный язык    3.0           3          0  "
      ]
     },
     "execution_count": 49,
     "metadata": {},
     "output_type": "execute_result"
    }
   ],
   "source": [
    "df.head(2)"
   ]
  },
  {
   "cell_type": "markdown",
   "id": "d52175fa-2bf1-4a5e-80d0-9bd9b6a13d42",
   "metadata": {},
   "source": [
    "## Group"
   ]
  },
  {
   "cell_type": "code",
   "execution_count": 50,
   "id": "9720588d-b159-4d84-8ee2-61788ba40bf7",
   "metadata": {},
   "outputs": [
    {
     "data": {
      "text/html": [
       "<div>\n",
       "<style scoped>\n",
       "    .dataframe tbody tr th:only-of-type {\n",
       "        vertical-align: middle;\n",
       "    }\n",
       "\n",
       "    .dataframe tbody tr th {\n",
       "        vertical-align: top;\n",
       "    }\n",
       "\n",
       "    .dataframe thead th {\n",
       "        text-align: right;\n",
       "    }\n",
       "</style>\n",
       "<table border=\"1\" class=\"dataframe\">\n",
       "  <thead>\n",
       "    <tr style=\"text-align: right;\">\n",
       "      <th></th>\n",
       "      <th>group</th>\n",
       "      <th>dismissed</th>\n",
       "    </tr>\n",
       "  </thead>\n",
       "  <tbody>\n",
       "    <tr>\n",
       "      <th>187</th>\n",
       "      <td>СГД-20-1</td>\n",
       "      <td>16</td>\n",
       "    </tr>\n",
       "    <tr>\n",
       "      <th>104</th>\n",
       "      <td>БПИ-21-3</td>\n",
       "      <td>15</td>\n",
       "    </tr>\n",
       "    <tr>\n",
       "      <th>69</th>\n",
       "      <td>БМН-20-3</td>\n",
       "      <td>15</td>\n",
       "    </tr>\n",
       "    <tr>\n",
       "      <th>95</th>\n",
       "      <td>БПИ-20-2</td>\n",
       "      <td>13</td>\n",
       "    </tr>\n",
       "    <tr>\n",
       "      <th>93</th>\n",
       "      <td>БПИ-20-1</td>\n",
       "      <td>13</td>\n",
       "    </tr>\n",
       "    <tr>\n",
       "      <th>102</th>\n",
       "      <td>БПИ-21-1</td>\n",
       "      <td>13</td>\n",
       "    </tr>\n",
       "    <tr>\n",
       "      <th>68</th>\n",
       "      <td>БМН-20-2</td>\n",
       "      <td>13</td>\n",
       "    </tr>\n",
       "    <tr>\n",
       "      <th>126</th>\n",
       "      <td>БТМО-22-1</td>\n",
       "      <td>13</td>\n",
       "    </tr>\n",
       "    <tr>\n",
       "      <th>128</th>\n",
       "      <td>БФЗ-20-1</td>\n",
       "      <td>12</td>\n",
       "    </tr>\n",
       "    <tr>\n",
       "      <th>74</th>\n",
       "      <td>БМТ-20-1</td>\n",
       "      <td>12</td>\n",
       "    </tr>\n",
       "  </tbody>\n",
       "</table>\n",
       "</div>"
      ],
      "text/plain": [
       "         group  dismissed\n",
       "187   СГД-20-1         16\n",
       "104   БПИ-21-3         15\n",
       "69    БМН-20-3         15\n",
       "95    БПИ-20-2         13\n",
       "93    БПИ-20-1         13\n",
       "102   БПИ-21-1         13\n",
       "68    БМН-20-2         13\n",
       "126  БТМО-22-1         13\n",
       "128   БФЗ-20-1         12\n",
       "74    БМТ-20-1         12"
      ]
     },
     "execution_count": 50,
     "metadata": {},
     "output_type": "execute_result"
    }
   ],
   "source": [
    "groupped_by_group = df[df.dismissed == 1].groupby(\"group\", as_index=False) \\\n",
    "    .agg({\"id\": \"nunique\"}) \\\n",
    "    .rename(columns={\"id\": \"dismissed\"}) \\\n",
    "    .sort_values(\"dismissed\", ascending=False) \\\n",
    "    .head(10)\n",
    "groupped_by_group"
   ]
  },
  {
   "cell_type": "code",
   "execution_count": 51,
   "id": "0aeb1ffb-28bd-45fb-96d0-450019e3f9d2",
   "metadata": {},
   "outputs": [
    {
     "data": {
      "text/html": [
       "<div>\n",
       "<style scoped>\n",
       "    .dataframe tbody tr th:only-of-type {\n",
       "        vertical-align: middle;\n",
       "    }\n",
       "\n",
       "    .dataframe tbody tr th {\n",
       "        vertical-align: top;\n",
       "    }\n",
       "\n",
       "    .dataframe thead th {\n",
       "        text-align: right;\n",
       "    }\n",
       "</style>\n",
       "<table border=\"1\" class=\"dataframe\">\n",
       "  <thead>\n",
       "    <tr style=\"text-align: right;\">\n",
       "      <th></th>\n",
       "      <th>group</th>\n",
       "      <th>dismissed</th>\n",
       "      <th>total</th>\n",
       "    </tr>\n",
       "  </thead>\n",
       "  <tbody>\n",
       "    <tr>\n",
       "      <th>0</th>\n",
       "      <td>СГД-20-1</td>\n",
       "      <td>16</td>\n",
       "      <td>31</td>\n",
       "    </tr>\n",
       "    <tr>\n",
       "      <th>1</th>\n",
       "      <td>БПИ-21-3</td>\n",
       "      <td>15</td>\n",
       "      <td>28</td>\n",
       "    </tr>\n",
       "    <tr>\n",
       "      <th>2</th>\n",
       "      <td>БМН-20-3</td>\n",
       "      <td>15</td>\n",
       "      <td>20</td>\n",
       "    </tr>\n",
       "    <tr>\n",
       "      <th>3</th>\n",
       "      <td>БПИ-20-2</td>\n",
       "      <td>13</td>\n",
       "      <td>23</td>\n",
       "    </tr>\n",
       "    <tr>\n",
       "      <th>4</th>\n",
       "      <td>БПИ-20-1</td>\n",
       "      <td>13</td>\n",
       "      <td>33</td>\n",
       "    </tr>\n",
       "  </tbody>\n",
       "</table>\n",
       "</div>"
      ],
      "text/plain": [
       "      group  dismissed  total\n",
       "0  СГД-20-1         16     31\n",
       "1  БПИ-21-3         15     28\n",
       "2  БМН-20-3         15     20\n",
       "3  БПИ-20-2         13     23\n",
       "4  БПИ-20-1         13     33"
      ]
     },
     "execution_count": 51,
     "metadata": {},
     "output_type": "execute_result"
    }
   ],
   "source": [
    "groupped_by_group = groupped_by_group.merge(\n",
    "    df[(df.dismissed == 0) & (df.group.isin(groupped_by_group.group.unique()))] \\\n",
    "        .groupby(\"group\", as_index=False) \\\n",
    "        .agg({\"id\": \"nunique\"}) \\\n",
    "        .rename(columns={\"id\": \"total\"})\n",
    ")\n",
    "groupped_by_group.head()"
   ]
  },
  {
   "cell_type": "code",
   "execution_count": 52,
   "id": "d567ffc0-f48b-451e-922d-2285589f455a",
   "metadata": {},
   "outputs": [
    {
     "data": {
      "text/html": [
       "<div>\n",
       "<style scoped>\n",
       "    .dataframe tbody tr th:only-of-type {\n",
       "        vertical-align: middle;\n",
       "    }\n",
       "\n",
       "    .dataframe tbody tr th {\n",
       "        vertical-align: top;\n",
       "    }\n",
       "\n",
       "    .dataframe thead th {\n",
       "        text-align: right;\n",
       "    }\n",
       "</style>\n",
       "<table border=\"1\" class=\"dataframe\">\n",
       "  <thead>\n",
       "    <tr style=\"text-align: right;\">\n",
       "      <th></th>\n",
       "      <th>group</th>\n",
       "      <th>type</th>\n",
       "      <th>count</th>\n",
       "    </tr>\n",
       "  </thead>\n",
       "  <tbody>\n",
       "    <tr>\n",
       "      <th>0</th>\n",
       "      <td>СГД-20-1</td>\n",
       "      <td>dismissed</td>\n",
       "      <td>16</td>\n",
       "    </tr>\n",
       "  </tbody>\n",
       "</table>\n",
       "</div>"
      ],
      "text/plain": [
       "      group       type  count\n",
       "0  СГД-20-1  dismissed     16"
      ]
     },
     "execution_count": 52,
     "metadata": {},
     "output_type": "execute_result"
    }
   ],
   "source": [
    "groupped_by_group_melted = pd.melt(groupped_by_group,\n",
    "                                   id_vars=['group'], \n",
    "                                   value_vars=['dismissed', 'total'], \n",
    "                                   var_name='type', \n",
    "                                   value_name='count')\n",
    "groupped_by_group_melted.head(1)"
   ]
  },
  {
   "cell_type": "code",
   "execution_count": 53,
   "id": "ee9cf286-eb97-489b-8e16-f7de42aa489f",
   "metadata": {},
   "outputs": [
    {
     "data": {
      "image/png": "[encoded data removed]",
      "text/plain": [
       "<Figure size 1400x500 with 1 Axes>"
      ]
     },
     "metadata": {},
     "output_type": "display_data"
    }
   ],
   "source": [
    "fig = plt.figure(figsize=(14, 5))\n",
    "\n",
    "sns.barplot(data=groupped_by_group_melted, x=\"group\", y=\"count\", hue=\"type\")\n",
    "\n",
    "plt.title(\"Распределение таргета в 10 группах с наиб. кол. отчисленных\")\n",
    "plt.xticks(rotation=60)\n",
    "\n",
    "plt.show()"
   ]
  },
  {
   "cell_type": "markdown",
   "id": "d23e589a-7c02-42b8-bb95-969596f2350d",
   "metadata": {},
   "source": [
    "Можем заметить, что отчислили больше всего в группах 3-4 курсов, что логично.\n",
    "\n",
    "Для модели колонка `group` не будет полезна"
   ]
  },
  {
   "cell_type": "markdown",
   "id": "5860c861-33fa-42a4-9ab7-f6c6fc46ea14",
   "metadata": {},
   "source": [
    "## Speciality"
   ]
  },
  {
   "cell_type": "markdown",
   "id": "fb1856fa-2752-47aa-874e-ffc88b910aaf",
   "metadata": {},
   "source": [
    "Гипотеза: есть сложные специальности, на которых чаще отчисляют студентов"
   ]
  },
  {
   "cell_type": "code",
   "execution_count": 54,
   "id": "9d609de1-439e-48e8-bb18-1bf332ecb751",
   "metadata": {},
   "outputs": [
    {
     "data": {
      "text/html": [
       "<div>\n",
       "<style scoped>\n",
       "    .dataframe tbody tr th:only-of-type {\n",
       "        vertical-align: middle;\n",
       "    }\n",
       "\n",
       "    .dataframe tbody tr th {\n",
       "        vertical-align: top;\n",
       "    }\n",
       "\n",
       "    .dataframe thead th {\n",
       "        text-align: right;\n",
       "    }\n",
       "</style>\n",
       "<table border=\"1\" class=\"dataframe\">\n",
       "  <thead>\n",
       "    <tr style=\"text-align: right;\">\n",
       "      <th></th>\n",
       "      <th>speciality</th>\n",
       "      <th>dismissed</th>\n",
       "      <th>total</th>\n",
       "      <th>dismissing_rate</th>\n",
       "    </tr>\n",
       "  </thead>\n",
       "  <tbody>\n",
       "    <tr>\n",
       "      <th>4</th>\n",
       "      <td>Прикладная математика</td>\n",
       "      <td>73</td>\n",
       "      <td>309</td>\n",
       "      <td>0.24</td>\n",
       "    </tr>\n",
       "    <tr>\n",
       "      <th>2</th>\n",
       "      <td>Металлургия</td>\n",
       "      <td>96</td>\n",
       "      <td>449</td>\n",
       "      <td>0.21</td>\n",
       "    </tr>\n",
       "    <tr>\n",
       "      <th>0</th>\n",
       "      <td>Прикладная информатика</td>\n",
       "      <td>125</td>\n",
       "      <td>714</td>\n",
       "      <td>0.18</td>\n",
       "    </tr>\n",
       "    <tr>\n",
       "      <th>12</th>\n",
       "      <td>Физика</td>\n",
       "      <td>24</td>\n",
       "      <td>136</td>\n",
       "      <td>0.18</td>\n",
       "    </tr>\n",
       "    <tr>\n",
       "      <th>3</th>\n",
       "      <td>Бизнес-информатика</td>\n",
       "      <td>84</td>\n",
       "      <td>521</td>\n",
       "      <td>0.16</td>\n",
       "    </tr>\n",
       "  </tbody>\n",
       "</table>\n",
       "</div>"
      ],
      "text/plain": [
       "                speciality  dismissed  total  dismissing_rate\n",
       "4    Прикладная математика         73    309             0.24\n",
       "2              Металлургия         96    449             0.21\n",
       "0   Прикладная информатика        125    714             0.18\n",
       "12                  Физика         24    136             0.18\n",
       "3       Бизнес-информатика         84    521             0.16"
      ]
     },
     "execution_count": 54,
     "metadata": {},
     "output_type": "execute_result"
    }
   ],
   "source": [
    "groupped_by_speciality = df[df.dismissed == 1].groupby(\"speciality\", as_index=False) \\\n",
    "    .agg({\"id\": \"nunique\"}) \\\n",
    "    .rename(columns={\"id\": \"dismissed\"}) \\\n",
    "    .sort_values(\"dismissed\", ascending=False) \\\n",
    "\n",
    "groupped_by_speciality = groupped_by_speciality.merge(\n",
    "    df[(df.dismissed == 0) & (df.speciality.isin(groupped_by_speciality.speciality.unique()))] \\\n",
    "        .groupby(\"speciality\", as_index=False) \\\n",
    "        .agg({\"id\": \"nunique\"}) \\\n",
    "        .rename(columns={\"id\": \"total\"})\n",
    ")\n",
    "\n",
    "groupped_by_speciality[\"dismissing_rate\"] = round(groupped_by_speciality.dismissed / groupped_by_speciality.total, 2)\n",
    "\n",
    "groupped_by_speciality = groupped_by_speciality.sort_values(\"dismissing_rate\", ascending=False)\n",
    "\n",
    "groupped_by_speciality.head(5)"
   ]
  },
  {
   "cell_type": "code",
   "execution_count": 55,
   "id": "107cac61-b8ee-49d4-b074-f14fd6167218",
   "metadata": {},
   "outputs": [
    {
     "data": {
      "image/png": "[encoded data removed]",
      "text/plain": [
       "<Figure size 1000x700 with 1 Axes>"
      ]
     },
     "metadata": {},
     "output_type": "display_data"
    }
   ],
   "source": [
    "fig = plt.figure(figsize=(10, 7))\n",
    "\n",
    "sns.barplot(data=groupped_by_speciality.head(20), x=\"dismissing_rate\", y=\"speciality\", palette=\"hls\", hue=\"speciality\", legend=False)\n",
    "\n",
    "plt.title(\"Специальности с наибольшей долей несданных\")\n",
    "\n",
    "plt.show()"
   ]
  },
  {
   "cell_type": "markdown",
   "id": "43e2ccd1-10d5-47c4-84bf-7bf088a7d1f3",
   "metadata": {},
   "source": [
    "В самом деле, гипотеза подтвердилась. Самый большой процент отчисленных на \"Прикладной математике\" - почти 25%\n",
    "\n",
    "Поэтому фича `speciality` может быть полезна для модели"
   ]
  },
  {
   "cell_type": "markdown",
   "id": "8095342f-4b5d-45a0-b647-f9c4fc94eda4",
   "metadata": {},
   "source": [
    "## Subject"
   ]
  },
  {
   "cell_type": "markdown",
   "id": "5ce17ca2-b369-44d1-8edc-4d8c0713fe56",
   "metadata": {},
   "source": [
    "Гипотеза в том, что есть так же сложные предметы, на которых часто \"валят\" студентов"
   ]
  },
  {
   "cell_type": "code",
   "execution_count": 56,
   "id": "288ca4e2-f30c-4771-b3c9-05993d738398",
   "metadata": {},
   "outputs": [
    {
     "data": {
      "text/html": [
       "<div>\n",
       "<style scoped>\n",
       "    .dataframe tbody tr th:only-of-type {\n",
       "        vertical-align: middle;\n",
       "    }\n",
       "\n",
       "    .dataframe tbody tr th {\n",
       "        vertical-align: top;\n",
       "    }\n",
       "\n",
       "    .dataframe thead th {\n",
       "        text-align: right;\n",
       "    }\n",
       "</style>\n",
       "<table border=\"1\" class=\"dataframe\">\n",
       "  <thead>\n",
       "    <tr style=\"text-align: right;\">\n",
       "      <th></th>\n",
       "      <th>subject</th>\n",
       "      <th>dismissed</th>\n",
       "      <th>total</th>\n",
       "      <th>dismissing_rate</th>\n",
       "    </tr>\n",
       "  </thead>\n",
       "  <tbody>\n",
       "    <tr>\n",
       "      <th>4</th>\n",
       "      <td>Эконометрика</td>\n",
       "      <td>43</td>\n",
       "      <td>156</td>\n",
       "      <td>0.28</td>\n",
       "    </tr>\n",
       "    <tr>\n",
       "      <th>3</th>\n",
       "      <td>Композиция</td>\n",
       "      <td>47</td>\n",
       "      <td>244</td>\n",
       "      <td>0.19</td>\n",
       "    </tr>\n",
       "  </tbody>\n",
       "</table>\n",
       "</div>"
      ],
      "text/plain": [
       "        subject  dismissed  total  dismissing_rate\n",
       "4  Эконометрика         43    156             0.28\n",
       "3    Композиция         47    244             0.19"
      ]
     },
     "execution_count": 56,
     "metadata": {},
     "output_type": "execute_result"
    }
   ],
   "source": [
    "groupped_by_subject = df[df.dismissed == 1].groupby(\"subject\", as_index=False) \\\n",
    "    .agg({\"id\": \"nunique\"}) \\\n",
    "    .rename(columns={\"id\": \"dismissed\"}) \\\n",
    "    .sort_values(\"dismissed\", ascending=False) \\\n",
    "\n",
    "groupped_by_subject = groupped_by_subject.merge(\n",
    "    df[(df.dismissed == 0) & (df.subject.isin(groupped_by_subject.subject.unique()))] \\\n",
    "        .groupby(\"subject\", as_index=False) \\\n",
    "        .agg({\"id\": \"nunique\"}) \\\n",
    "        .rename(columns={\"id\": \"total\"})\n",
    ")\n",
    "\n",
    "groupped_by_subject[\"dismissing_rate\"] = round(groupped_by_subject.dismissed / groupped_by_subject.total, 2)\n",
    "\n",
    "groupped_by_subject = groupped_by_subject[groupped_by_subject.total > 50].sort_values(\"dismissing_rate\", ascending=False)\n",
    "\n",
    "groupped_by_subject.head(2)"
   ]
  },
  {
   "cell_type": "code",
   "execution_count": 57,
   "id": "b3f5a514-5825-45c3-85f7-42a0360796a6",
   "metadata": {},
   "outputs": [
    {
     "data": {
      "image/png": "[encoded data removed]",
      "text/plain": [
       "<Figure size 1000x700 with 1 Axes>"
      ]
     },
     "metadata": {},
     "output_type": "display_data"
    }
   ],
   "source": [
    "fig = plt.figure(figsize=(10, 7))\n",
    "\n",
    "sns.barplot(data=groupped_by_subject.head(20), x=\"dismissing_rate\", y=\"subject\", palette=\"hls\", hue=\"subject\", legend=False)\n",
    "\n",
    "plt.title(\"Предметы с наибольшей долей несданных\")\n",
    "\n",
    "plt.show()"
   ]
  },
  {
   "cell_type": "markdown",
   "id": "9e167bc0-c357-4d77-9e74-a894b1e6ed44",
   "metadata": {},
   "source": [
    "В самом деле так и есть. Фича `subject` довольно полезная"
   ]
  },
  {
   "cell_type": "markdown",
   "id": "95cde871-11f0-4f0f-87b1-df2fe140a9e6",
   "metadata": {},
   "source": [
    "# Feature Engineering"
   ]
  },
  {
   "cell_type": "markdown",
   "id": "5b7a33cb-8544-4dc9-ac80-a60301b67513",
   "metadata": {},
   "source": [
    "В качестве полезных фичей, которые я бы сгенерировал перед обучением модели:\n",
    "- курс\n",
    "- семестр (например, для бакалавра от 1 до 8)\n",
    "- средняя оценка студента за экзамены, начиная с начала обучения и заканчивая текущим семестром\n",
    "- средняя оценка студента за предметы, начиная с начала обучения и заканчивая текущим семестром\n",
    "- средняя оценка студента за последнюю сессию\n",
    "- количество долгов, начиная с начала обучения и заканчивая текущим семестром\n",
    "- среднее отклонение оценок студента"
   ]
  },
  {
   "cell_type": "code",
   "execution_count": 58,
   "id": "745da5af-b106-4d32-8c69-c11600cdc6ed",
   "metadata": {},
   "outputs": [
    {
     "data": {
      "text/html": [
       "<div>\n",
       "<style scoped>\n",
       "    .dataframe tbody tr th:only-of-type {\n",
       "        vertical-align: middle;\n",
       "    }\n",
       "\n",
       "    .dataframe tbody tr th {\n",
       "        vertical-align: top;\n",
       "    }\n",
       "\n",
       "    .dataframe thead th {\n",
       "        text-align: right;\n",
       "    }\n",
       "</style>\n",
       "<table border=\"1\" class=\"dataframe\">\n",
       "  <thead>\n",
       "    <tr style=\"text-align: right;\">\n",
       "      <th></th>\n",
       "      <th>hash</th>\n",
       "      <th>id</th>\n",
       "      <th>level</th>\n",
       "      <th>group</th>\n",
       "      <th>speciality</th>\n",
       "      <th>year</th>\n",
       "      <th>semester</th>\n",
       "      <th>subject</th>\n",
       "      <th>grade</th>\n",
       "      <th>perfomance</th>\n",
       "      <th>dismissed</th>\n",
       "    </tr>\n",
       "  </thead>\n",
       "  <tbody>\n",
       "    <tr>\n",
       "      <th>0</th>\n",
       "      <td>67a80fffd8d0294a596eda117d7e393c</td>\n",
       "      <td>2010218</td>\n",
       "      <td>Академический бакалавр</td>\n",
       "      <td>БИВТ-20-4</td>\n",
       "      <td>Информатика и вычислительная техника</td>\n",
       "      <td>2020 - 2021</td>\n",
       "      <td>I полугодие</td>\n",
       "      <td>Инженерная компьютерная графика</td>\n",
       "      <td>4.0</td>\n",
       "      <td>4</td>\n",
       "      <td>0</td>\n",
       "    </tr>\n",
       "    <tr>\n",
       "      <th>1</th>\n",
       "      <td>67a80fffd8d0294a596eda117d7e393c</td>\n",
       "      <td>2010218</td>\n",
       "      <td>Академический бакалавр</td>\n",
       "      <td>БИВТ-20-4</td>\n",
       "      <td>Информатика и вычислительная техника</td>\n",
       "      <td>2020 - 2021</td>\n",
       "      <td>I полугодие</td>\n",
       "      <td>Иностранный язык</td>\n",
       "      <td>3.0</td>\n",
       "      <td>3</td>\n",
       "      <td>0</td>\n",
       "    </tr>\n",
       "  </tbody>\n",
       "</table>\n",
       "</div>"
      ],
      "text/plain": [
       "                               hash       id                   level  \\\n",
       "0  67a80fffd8d0294a596eda117d7e393c  2010218  Академический бакалавр   \n",
       "1  67a80fffd8d0294a596eda117d7e393c  2010218  Академический бакалавр   \n",
       "\n",
       "       group                            speciality         year     semester  \\\n",
       "0  БИВТ-20-4  Информатика и вычислительная техника  2020 - 2021  I полугодие   \n",
       "1  БИВТ-20-4  Информатика и вычислительная техника  2020 - 2021  I полугодие   \n",
       "\n",
       "                           subject  grade  perfomance  dismissed  \n",
       "0  Инженерная компьютерная графика    4.0           4          0  \n",
       "1                 Иностранный язык    3.0           3          0  "
      ]
     },
     "execution_count": 58,
     "metadata": {},
     "output_type": "execute_result"
    }
   ],
   "source": [
    "df.head(2)"
   ]
  },
  {
   "cell_type": "markdown",
   "id": "f589c536-e703-405c-9b50-dac76560662f",
   "metadata": {},
   "source": [
    "Название групп содержит год, в котором эта группа начала обучение.\n",
    "\n",
    "Например \"БИВТ-20-4\" значит, что студенты в 2020 - 2021 учебном году были на первом курсе.\n",
    "\n",
    "**Создадим новую фичу - курс студента**"
   ]
  },
  {
   "cell_type": "code",
   "execution_count": 59,
   "id": "462b78b2-ab36-4e77-9a7d-a5dbfc383580",
   "metadata": {},
   "outputs": [
    {
     "data": {
      "text/plain": [
       "array(['БИВТ-20-4', 'БИВТ-23-9', 'МПИ-23-1-1', 'ББИ-20-3', 'БИВТ-23-8',\n",
       "       'МПИ-23-4', 'БИВТ-22-9', 'БМН-22-1', 'ББИ-22-8', 'СГД-18-13',\n",
       "       'ММТ-22-8', 'БЭЭ-23-1', 'БМТ-22-1', 'БТМО-22-1', 'БНМТ-21-1',\n",
       "       'БМН-20-1', 'СГД-19-1', 'БПМ-20-4', 'МТМО-23-3', 'МУТС-23-1',\n",
       "       'БМТМ-21-4', 'БЭН-22-2', 'БМН-21-2', 'МТБ-22-1', 'СГД-19-3',\n",
       "       'ММТ-23-6', 'СГД-20-5', 'МЭЭ-22-2', 'МТМО-22-6', 'БПМ-21-2',\n",
       "       'БПМ-22-1', 'БИВТ-21-4', 'БМТ-20-2', 'БМТ-22-2', 'БИВТ-22-10',\n",
       "       'СГТ-23-1', 'БИВТ-22-5', 'МИВТ-22-5', 'БИВТ-21-3', 'ББИ-22-3',\n",
       "       'ББИ-22-2', 'БЭН-23-2', 'БЭК-22-4', 'БЛГ-20-5', 'БЭК-20-3',\n",
       "       'БЛГ-23-6', 'БИСТ-21-2', 'БМН-21-5', 'БЛГ-21-1', 'БЛГ-23-8',\n",
       "       'БПИ-20-8', 'БПИ-20-3', 'БИСТ-20-2', 'БИВТ-23-11', 'БПИ-22-7',\n",
       "       'ММТ-22-2', 'БИВТ-22-2', 'БИВТ-23-7', 'СГД-20-4', 'БЭК-22-3',\n",
       "       'БПИ-21-4', 'БПИ-22-1', 'ББИ-21-3', 'ММТ-23-9', 'БФЗ-22-1',\n",
       "       'ММТ-22-3', 'БИСТ-20-3', 'БМН-21-1', 'БИВТ-23-16', 'БПИ-22-5',\n",
       "       'БИСТ-20-1', 'БПИ-22-6', 'БИВТ-21-16', 'БЛГ-22-2', 'БМН-22-4',\n",
       "       'БЭК-19-3з', 'БЭН-20-1', 'СФП-18-2', 'БЛГ-21-2', 'СГД-21-6з',\n",
       "       'БПМ-21-1', 'СГД-21-6', 'БМН-21-4', 'БИСТ-22-3', 'МПИ-23-2',\n",
       "       'ММТМ-22-9', 'БНМТ-20-1', 'ББИ-21-4', 'БИВТ-23-12', 'БЭК-21-1',\n",
       "       'ББИ-20-2', 'ММТ-22-7', 'ММН-22-4', 'ББИ-20-4', 'МТМО-22-3',\n",
       "       'БИВТ-22-8', 'БФЗ-21-2', 'БЭК-20-1', 'БЭЭ-22-1', 'МТБ-23-3',\n",
       "       'БИВТ-23-13', 'СГД-19-5', 'БПМ-20-3', 'БЭК-23-8', 'ББИ-23-5',\n",
       "       'БИВТ-20-5', 'БЭК-23-3', 'БНТМ-23-2', 'СГД-22-1', 'МИСТ-23-1-1',\n",
       "       'СГД-19-6', 'МТМО-22-7', 'СГД-21-3', 'СГД-22-3', 'ММТМ-23-10А',\n",
       "       'БЛГ-20-14', 'БИВТ-20-1', 'МИВТ-22-2', 'ММТ-22-1', 'БЛГ-21-8',\n",
       "       'БЛГ-21-3', 'БПМ-22-4', 'БМТ-23-2', 'БИВТ-23-6', 'БИВТ-23-3',\n",
       "       'СГД-21-1', 'БЭК-21-3', 'БПИ-22-4', 'ББИ-22-1', 'ББИ-22-4',\n",
       "       'МЭН-22-2', 'МТМО-22-1', 'БИВТ-23-15', 'БФЗ-20-1', 'БМТМ-20-4',\n",
       "       'БИВТ-21-17', 'БИВТ-23-14', 'ББИ-21-2', 'ММТМ-23-7', 'БИВТ-22-6',\n",
       "       'БЛГ-20-4', 'ММТ-23-7', 'БПМ-21-3', 'БПИ-20-2', 'СГД-20-6з',\n",
       "       'ББИ-22-7', 'БМТМ-22-2', 'БТМО-20-1', 'СГД-20-2', 'БИВТ-23-5',\n",
       "       'БМН-22-5', 'БПИ-20-1', 'БЭК-22-1', 'БЭЭ-21-1', 'БИСТ-22-2',\n",
       "       'БЛГ-21-10', 'БЛГ-20-8', 'БМН-20-3', 'СГД-22-4', 'СГД-19-3з',\n",
       "       'СГД-17-2_Артемов А.П.', 'БИВТ-23-4', 'БЭК-22-5', 'МТМО-23-5',\n",
       "       'БЛГ-20-9', 'МИВТ-23-2', 'ББИ-23-6', 'МЭЭ-23-1', 'ММТМ-22-6',\n",
       "       'БТМО-22-2', 'БЭН-21-2', 'ММН-23-2', 'БЛГ-23-1', 'СГД-18-14',\n",
       "       'ММТМ-23-11А', 'БИВТ-21-5', 'МУТС-22-1', 'БИСТ-21-4',\n",
       "       'БПМ-20-1_Альхеев Г.Е.', 'БИВТ-22-7', 'МИСТ-22-1', 'БЛГ-22-12',\n",
       "       'БПМ-20-2', 'БЭН-20-2', 'БИВТ-20-2', 'БЭК-23-6', 'ББИ-23-3',\n",
       "       'СГД-22-2', 'БМН-19-1з', 'СГД-22-6з', 'БПМ-22-2', 'ММТМ-22-4',\n",
       "       'БЛГ-22-8', 'СФП-19-1', 'МЭЭ-22-1', 'ММТМ-23-8', 'МТБ-23-1',\n",
       "       'ММТМ-22-2', 'МБИ-23-2', 'БМН-21-3', 'БПИ-20-10', 'БФЗ-23-1',\n",
       "       'БНМ-20-1', 'БПИ-20-6', 'БПИ-21-1', 'БИСТ-21-3', 'ББИ-21-1',\n",
       "       'ББИ-22-6', 'МПИ-23-1-2', 'БНМТ-22-1', 'БЭЭ-20-1', 'МЭЭ-23-2',\n",
       "       'БЭК-23-4', 'ПИШ-23-3', 'БЭН-22-1', 'БЛГ-21-11', 'БЛГ-20-15',\n",
       "       'МЭН-23-2', 'БМН-20-2', 'СГД-22-5', 'БПМ-22-3', 'БИВТ-20-6',\n",
       "       'БЛГ-22-7', 'БТМО-21-1', 'ММТМ-22-11А', 'ММТ-22-9', 'БИСТ-21-1',\n",
       "       'СФП-20-1', 'ММН-22-3', 'МИВТ-22-3-1', 'БТМО-21-2', 'МПИ-22-5',\n",
       "       'БЛГ-22-5', 'ПИШ-23-1', 'МИВТ-22-4', 'МЛГ-22-1А', 'ММТ-22-13',\n",
       "       'БЛГ-21-13', 'МБИ-23-1-1', 'МПИ-22-1', 'БИВТ-23-1', 'БЭК-23-5',\n",
       "       'БПИ-21-2', 'МИВТ-23-1', 'ММН-23-1', 'ММТ-22-6', 'БМТ-21-2',\n",
       "       'МИВТ-23-9', 'БЛГ-21-4', 'БИВТ-23-2', 'МНМ-22-1', 'БНМ-22-1',\n",
       "       'СГД-20-1', 'БМТМ-20-3', 'СГД-19-4', 'МПИ-22-2-1', 'БПИ-22-3',\n",
       "       'СГД-19-2', 'МИСТ-23-2-2', 'СГД-20-7', 'БЛГ-22-4', 'ММТМ-23-1',\n",
       "       'БМН-20-5', 'МЭК-22-3', 'СФП-18-1', 'БЛГ-20-3', 'БИВТ-23-10',\n",
       "       'БЛГ-23-2', 'БИВТ-21-1', 'МТМО-22-2', 'БИВТ-22-16', 'БЛГ-22-11',\n",
       "       'БЛГ-20-11', 'БЛГ-21-7', 'СФП-21-1', 'СГД-20-6', 'ММТМ-22-3',\n",
       "       'МБИ-22-1', 'МИСТ-22-2-1', 'СГД-21-5', 'БПМ-20-1_Бакланов Г.Д.',\n",
       "       'БЛГ-23-4', 'ММТМ-23-6', 'БПИ-22-2', 'БЛГ-22-13', 'СГД-21-2',\n",
       "       'БМН-22-2', 'МИВТ-22-1', 'ММТМ-23-4', 'МТМО-22-5', 'ММТ-22-11',\n",
       "       'БНМ-21-1', 'ББИ-23-4', 'ММН-22-1', 'СГД-18-2', 'ММН-23-4',\n",
       "       'СГД-20-3', 'СГТ-23-4', 'БИВТ-20-3', 'СНТС-19-1', 'БМТ-20-1',\n",
       "       'БЭК-23-2', 'БИВТ-23-17', 'БПИ-21-5', 'ПИШ-23-2', 'ММТМ-23-12',\n",
       "       'МИВТ-22-7А', 'СГД-21-7', 'БМН-22-3', 'БЛГ-22-6', 'МТБ-22-2',\n",
       "       'БЛГ-21-6', 'МИВТ-23-4', 'БЭК-21-2', 'БЛГ-21-12', 'БПМ-20-1',\n",
       "       'БЛГ-20-16', 'БЛГ-22-3', 'БИСТ-22-1', 'БЛГ-20-6', 'МТБ-23-2',\n",
       "       'БЭК-22-2', 'БЛГ-21-9', 'БЭН-21-1', 'БИВТ-21-2', 'БЭК-23-7',\n",
       "       'БПИ-20-9', 'БЛГ-20-1', 'СГД-19-7', 'БИВТ-22-3', 'МИСТ-23-2-1',\n",
       "       'БТМО-20-2', 'БЛГ-20-2', 'ММТМ-23-9', 'БМТМ-22-1', 'БЛГ-22-9',\n",
       "       'БТМО-23-1', 'БПИ-21-3', 'БЛГ-20-7', 'МФЗ-23-1', 'БПИ-20-4',\n",
       "       'МФЗ-22-1', 'МЭН-22-1', 'СФП-22-1', 'БЛГ-20-13', 'СГД-18-3',\n",
       "       'СГД-18-8', 'БПИ-21-1_Брегман И.В.', 'БЭК-20-2', 'СГД-21-4',\n",
       "       'БЭК-23-1', 'МЭК-23-1', 'МЭК-22-1', 'МФЗ-22-2', 'ММТМ-22-5',\n",
       "       'МФЗ-23-2', 'ММТМ-23-2', 'СГД-18-6з', 'БЛГ-22-1', 'МЛГ-22-2А',\n",
       "       'ББИ-23-2', 'БЛГ-22-10', 'МТМО-22-4', 'БИВТ-22-1', 'БФЗ-21-1',\n",
       "       'БЛГ-20-12', 'ММТ-22-3_Видманова А.Н.', 'БМТМ-20-1', 'БЛГ-23-9',\n",
       "       'ББИ-20-1', 'МИСТ-23-1-2', 'ММТМ-22-8', 'СГД-18-6', 'СГД-23-6з',\n",
       "       'БМТ-23-1', 'ББИ-22-5', 'БИВТ-22-4', 'МЭН-23-3', 'СГТ-23-5',\n",
       "       'ММТ-23-11', 'ММТ-22-4', 'МЭК-23-3', 'БЛГ-20-10', 'БМТМ-23-2',\n",
       "       'СГД-22-6', 'БМТМ-21-2', 'БНТМ-23-1', 'БМН-20-4', 'БЛГ-21-5',\n",
       "       'МЛГ-23-3', 'БМТ-21-1', 'БМН-20-1з', 'ММТ-22-3_Гуреев Н.М.',\n",
       "       'БМТМ-20-2', 'МНТМ-22-2А', 'БПИ-20-1_Давыдов И.С.', 'МИВТ-22-6А',\n",
       "       'БМТМ-23-3', 'БМТМ-22-3', 'ММТМ-22-7', 'БПИ-20-5', 'МПИ-22-4',\n",
       "       'МЭН-23-1', 'СГД-18-12', 'ММТ-22-12', 'БМТМ-21-1',\n",
       "       'МИВТ-22-2_Ефимов Д.А.', 'МНТМ-22-1', 'МИСТ-23-3-2', 'ММТ-23-10А',\n",
       "       'БМТМ-21-3', 'МЭН-22-3', 'БЭК-20-3з', 'СГД-17-3_Иванова А.В.',\n",
       "       'ММТМ-22-1', 'МПИ-22-3', 'МЭК-23-2', 'СГД-17-4_Колосова Д.Э.',\n",
       "       'БМТМ-23-1', 'БИВТ-20-1_Кузнецов Д.А.', 'МИСТ-22-2-2', 'ББИ-21-5',\n",
       "       'БИВТ-21-1_Лукарина А.В.', 'СГД-21-6з_Ляпин Ф.М.',\n",
       "       'ММТ-22-3_Макарцева А.А.', 'БИСТ-20-3_Малых М.Н.',\n",
       "       'БПМ-20-1_Мартынова А.С.', 'БПМ-20-1_Минеева Е.И.',\n",
       "       'БИВТ-20-1_Монастырев Я.Е.', 'СГД-16-1з_Алферов Д.В., Ножин Д.В.',\n",
       "       'МИСТ-23-3-3', 'СГД-17-6_Осепян А.Х.', 'БПМ-23-3',\n",
       "       'БПМ-20-1_Резникова Е.А.', 'БИСТ-22-1_Саранчуков И.Д.',\n",
       "       'ММТ-22-3_Сиднев А.В.', 'БПМ-21-1_Степовой О.К.', 'МИСТ-23-3-4',\n",
       "       'СГД-20-6з_Трухачев А.А.', 'ММТ-22-3_Тхор М.Ю.', 'ММТ-22-10А',\n",
       "       'БПМ-20-1_Хохлов К.М.', 'МНТМ-23-2А', 'СГД-21-6з_Чеботарев С.А.'],\n",
       "      dtype=object)"
      ]
     },
     "execution_count": 59,
     "metadata": {},
     "output_type": "execute_result"
    }
   ],
   "source": [
    "df.group.unique()"
   ]
  },
  {
   "cell_type": "code",
   "execution_count": 60,
   "id": "93486025-9682-497c-a473-b331cd8fbba9",
   "metadata": {},
   "outputs": [
    {
     "data": {
      "text/html": [
       "<div>\n",
       "<style scoped>\n",
       "    .dataframe tbody tr th:only-of-type {\n",
       "        vertical-align: middle;\n",
       "    }\n",
       "\n",
       "    .dataframe tbody tr th {\n",
       "        vertical-align: top;\n",
       "    }\n",
       "\n",
       "    .dataframe thead th {\n",
       "        text-align: right;\n",
       "    }\n",
       "</style>\n",
       "<table border=\"1\" class=\"dataframe\">\n",
       "  <thead>\n",
       "    <tr style=\"text-align: right;\">\n",
       "      <th></th>\n",
       "      <th>hash</th>\n",
       "      <th>id</th>\n",
       "      <th>level</th>\n",
       "      <th>group</th>\n",
       "      <th>speciality</th>\n",
       "      <th>year</th>\n",
       "      <th>semester</th>\n",
       "      <th>subject</th>\n",
       "      <th>grade</th>\n",
       "      <th>perfomance</th>\n",
       "      <th>dismissed</th>\n",
       "    </tr>\n",
       "  </thead>\n",
       "  <tbody>\n",
       "    <tr>\n",
       "      <th>0</th>\n",
       "      <td>67a80fffd8d0294a596eda117d7e393c</td>\n",
       "      <td>2010218</td>\n",
       "      <td>Академический бакалавр</td>\n",
       "      <td>БИВТ-20-4</td>\n",
       "      <td>Информатика и вычислительная техника</td>\n",
       "      <td>2020 - 2021</td>\n",
       "      <td>I полугодие</td>\n",
       "      <td>Инженерная компьютерная графика</td>\n",
       "      <td>4.0</td>\n",
       "      <td>4</td>\n",
       "      <td>0</td>\n",
       "    </tr>\n",
       "  </tbody>\n",
       "</table>\n",
       "</div>"
      ],
      "text/plain": [
       "                               hash       id                   level  \\\n",
       "0  67a80fffd8d0294a596eda117d7e393c  2010218  Академический бакалавр   \n",
       "\n",
       "       group                            speciality         year     semester  \\\n",
       "0  БИВТ-20-4  Информатика и вычислительная техника  2020 - 2021  I полугодие   \n",
       "\n",
       "                           subject  grade  perfomance  dismissed  \n",
       "0  Инженерная компьютерная графика    4.0           4          0  "
      ]
     },
     "execution_count": 60,
     "metadata": {},
     "output_type": "execute_result"
    }
   ],
   "source": [
    "df.head(1)"
   ]
  },
  {
   "cell_type": "code",
   "execution_count": 61,
   "id": "f1bb80ee-6b6a-4dba-8349-fcb25bf9b53e",
   "metadata": {},
   "outputs": [],
   "source": [
    "def parse_course(row):\n",
    "    start_year = int(\"20\" + row.group.split('-')[1])\n",
    "    course = int(row.year.split(\"-\")[1]) - start_year\n",
    "    return course"
   ]
  },
  {
   "cell_type": "code",
   "execution_count": 62,
   "id": "4a1f7971-20ae-4585-bd0b-7b870def824d",
   "metadata": {},
   "outputs": [],
   "source": [
    "df[\"course\"] = df.apply(parse_course, axis=1).astype(\"int\")"
   ]
  },
  {
   "cell_type": "code",
   "execution_count": 63,
   "id": "b6cc654b-5919-42ca-994b-fb34e7d88536",
   "metadata": {},
   "outputs": [],
   "source": [
    "df = df[df.course <= 6]"
   ]
  },
  {
   "cell_type": "code",
   "execution_count": 64,
   "id": "9edd792f-bbe5-48cf-9cb5-c3c39e722ead",
   "metadata": {},
   "outputs": [],
   "source": [
    "def parse_semester(row):\n",
    "    year_semester = 2 if row.semester[:2] == \"II\" else 1\n",
    "    semester = 2 * row.course - (2 - year_semester)\n",
    "    return semester"
   ]
  },
  {
   "cell_type": "code",
   "execution_count": 65,
   "id": "3cc45e7a-cf4e-433c-8c9a-07db10791530",
   "metadata": {},
   "outputs": [
    {
     "data": {
      "text/plain": [
       "array([ 1,  2,  3,  4,  5,  6,  7,  8,  9, 10, 11, 12])"
      ]
     },
     "execution_count": 65,
     "metadata": {},
     "output_type": "execute_result"
    }
   ],
   "source": [
    "df.apply(parse_semester, axis=1).unique()"
   ]
  },
  {
   "cell_type": "code",
   "execution_count": 66,
   "id": "ee377447-794f-4c61-bfd2-a3e98e21a01e",
   "metadata": {},
   "outputs": [],
   "source": [
    "df.loc[:, \"semester\"] = df.apply(parse_semester, axis=1)"
   ]
  },
  {
   "cell_type": "code",
   "execution_count": 67,
   "id": "62281d7f-036c-46e2-97dd-300139d8738d",
   "metadata": {},
   "outputs": [],
   "source": [
    "df = df.drop([\"group\", \"year\", \"hash\"], axis=1)"
   ]
  },
  {
   "cell_type": "code",
   "execution_count": 68,
   "id": "adde27bb-b6a2-4e8e-af9d-10af17690d1f",
   "metadata": {},
   "outputs": [
    {
     "data": {
      "text/html": [
       "<div>\n",
       "<style scoped>\n",
       "    .dataframe tbody tr th:only-of-type {\n",
       "        vertical-align: middle;\n",
       "    }\n",
       "\n",
       "    .dataframe tbody tr th {\n",
       "        vertical-align: top;\n",
       "    }\n",
       "\n",
       "    .dataframe thead th {\n",
       "        text-align: right;\n",
       "    }\n",
       "</style>\n",
       "<table border=\"1\" class=\"dataframe\">\n",
       "  <thead>\n",
       "    <tr style=\"text-align: right;\">\n",
       "      <th></th>\n",
       "      <th>id</th>\n",
       "      <th>level</th>\n",
       "      <th>speciality</th>\n",
       "      <th>semester</th>\n",
       "      <th>subject</th>\n",
       "      <th>grade</th>\n",
       "      <th>perfomance</th>\n",
       "      <th>dismissed</th>\n",
       "      <th>course</th>\n",
       "    </tr>\n",
       "  </thead>\n",
       "  <tbody>\n",
       "    <tr>\n",
       "      <th>0</th>\n",
       "      <td>2010218</td>\n",
       "      <td>Академический бакалавр</td>\n",
       "      <td>Информатика и вычислительная техника</td>\n",
       "      <td>1</td>\n",
       "      <td>Инженерная компьютерная графика</td>\n",
       "      <td>4.0</td>\n",
       "      <td>4</td>\n",
       "      <td>0</td>\n",
       "      <td>1</td>\n",
       "    </tr>\n",
       "    <tr>\n",
       "      <th>1</th>\n",
       "      <td>2010218</td>\n",
       "      <td>Академический бакалавр</td>\n",
       "      <td>Информатика и вычислительная техника</td>\n",
       "      <td>1</td>\n",
       "      <td>Иностранный язык</td>\n",
       "      <td>3.0</td>\n",
       "      <td>3</td>\n",
       "      <td>0</td>\n",
       "      <td>1</td>\n",
       "    </tr>\n",
       "  </tbody>\n",
       "</table>\n",
       "</div>"
      ],
      "text/plain": [
       "        id                   level                            speciality  \\\n",
       "0  2010218  Академический бакалавр  Информатика и вычислительная техника   \n",
       "1  2010218  Академический бакалавр  Информатика и вычислительная техника   \n",
       "\n",
       "  semester                          subject  grade  perfomance  dismissed  \\\n",
       "0        1  Инженерная компьютерная графика    4.0           4          0   \n",
       "1        1                 Иностранный язык    3.0           3          0   \n",
       "\n",
       "   course  \n",
       "0       1  \n",
       "1       1  "
      ]
     },
     "execution_count": 68,
     "metadata": {},
     "output_type": "execute_result"
    }
   ],
   "source": [
    "df.head(2)"
   ]
  },
  {
   "cell_type": "markdown",
   "id": "109440fc-5ed7-425b-a38b-7c43385fa87b",
   "metadata": {},
   "source": [
    "Пока что приостановил решение"
   ]
  }
 ],
 "metadata": {
  "kernelspec": {
   "display_name": "Python 3 (ipykernel)",
   "language": "python",
   "name": "python3"
  },
  "language_info": {
   "codemirror_mode": {
    "name": "ipython",
    "version": 3
   },
   "file_extension": ".py",
   "mimetype": "text/x-python",
   "name": "python",
   "nbconvert_exporter": "python",
   "pygments_lexer": "ipython3",
   "version": "3.10.8"
  },
  "toc": {
   "base_numbering": 1,
   "nav_menu": {},
   "number_sections": false,
   "sideBar": true,
   "skip_h1_title": false,
   "title_cell": "Table of Contents",
   "title_sidebar": "Contents",
   "toc_cell": false,
   "toc_position": {},
   "toc_section_display": true,
   "toc_window_display": false
  }
 },
 "nbformat": 4,
 "nbformat_minor": 5
}
